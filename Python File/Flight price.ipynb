{
 "cells": [
  {
   "cell_type": "markdown",
   "id": "d8acfe2b",
   "metadata": {},
   "source": [
    "### Importing Dataset & Library's :"
   ]
  },
  {
   "cell_type": "code",
   "execution_count": 1,
   "id": "4fcf8df7",
   "metadata": {},
   "outputs": [],
   "source": [
    "import pandas as pd\n",
    "import numpy as np\n",
    "import matplotlib.pyplot as plt\n",
    "import seaborn as sns\n",
    "import plotly.express as px\n",
    "import warnings\n",
    "warnings.filterwarnings('ignore')"
   ]
  },
  {
   "cell_type": "code",
   "execution_count": 2,
   "id": "5344fd8c",
   "metadata": {},
   "outputs": [],
   "source": [
    "from sklearn.linear_model import LinearRegression, Ridge, Lasso\n",
    "from sklearn.tree import DecisionTreeRegressor\n",
    "from sklearn.ensemble import RandomForestRegressor, GradientBoostingRegressor,AdaBoostRegressor\n",
    "from sklearn.neighbors import KNeighborsRegressor\n",
    "from xgboost import XGBRegressor\n",
    "\n",
    "from sklearn.metrics import r2_score, mean_squared_error"
   ]
  },
  {
   "cell_type": "code",
   "execution_count": 3,
   "id": "e7fc157a",
   "metadata": {
    "scrolled": true
   },
   "outputs": [],
   "source": [
    "df = pd.read_excel(r\"C:\\Users\\DELL\\Downloads\\Advanced ML -- Exam\\Flight_Price_Train.xlsx\")\n",
    "LD = pd.read_excel(r\"C:\\Users\\DELL\\Downloads\\Advanced ML -- Exam\\Flight_Price_Test.xlsx\")"
   ]
  },
  {
   "cell_type": "markdown",
   "id": "1bd08c9e",
   "metadata": {},
   "source": [
    "## Perform Feature Engineering"
   ]
  },
  {
   "cell_type": "markdown",
   "id": "d12b7403",
   "metadata": {},
   "source": [
    "##### a. Perform basic exploration like checking for top 5 records, shape, statistical info, duplicates, Null values etc."
   ]
  },
  {
   "cell_type": "markdown",
   "id": "e1ebbbdb",
   "metadata": {},
   "source": [
    "##### Top 5 Rows :"
   ]
  },
  {
   "cell_type": "code",
   "execution_count": 4,
   "id": "7121f13b",
   "metadata": {
    "scrolled": true
   },
   "outputs": [
    {
     "data": {
      "text/html": [
       "<div>\n",
       "<style scoped>\n",
       "    .dataframe tbody tr th:only-of-type {\n",
       "        vertical-align: middle;\n",
       "    }\n",
       "\n",
       "    .dataframe tbody tr th {\n",
       "        vertical-align: top;\n",
       "    }\n",
       "\n",
       "    .dataframe thead th {\n",
       "        text-align: right;\n",
       "    }\n",
       "</style>\n",
       "<table border=\"1\" class=\"dataframe\">\n",
       "  <thead>\n",
       "    <tr style=\"text-align: right;\">\n",
       "      <th></th>\n",
       "      <th>Airline</th>\n",
       "      <th>Date_of_Journey</th>\n",
       "      <th>Source</th>\n",
       "      <th>Destination</th>\n",
       "      <th>Route</th>\n",
       "      <th>Dep_Time</th>\n",
       "      <th>Arrival_Time</th>\n",
       "      <th>Duration</th>\n",
       "      <th>Total_Stops</th>\n",
       "      <th>Additional_Info</th>\n",
       "      <th>Price</th>\n",
       "    </tr>\n",
       "  </thead>\n",
       "  <tbody>\n",
       "    <tr>\n",
       "      <th>0</th>\n",
       "      <td>IndiGo</td>\n",
       "      <td>24/03/2019</td>\n",
       "      <td>Banglore</td>\n",
       "      <td>New Delhi</td>\n",
       "      <td>BLR → DEL</td>\n",
       "      <td>22:20</td>\n",
       "      <td>01:10 22 Mar</td>\n",
       "      <td>2h 50m</td>\n",
       "      <td>non-stop</td>\n",
       "      <td>No info</td>\n",
       "      <td>3897</td>\n",
       "    </tr>\n",
       "    <tr>\n",
       "      <th>1</th>\n",
       "      <td>Air India</td>\n",
       "      <td>1/05/2019</td>\n",
       "      <td>Kolkata</td>\n",
       "      <td>Banglore</td>\n",
       "      <td>CCU → IXR → BBI → BLR</td>\n",
       "      <td>05:50</td>\n",
       "      <td>13:15</td>\n",
       "      <td>7h 25m</td>\n",
       "      <td>2 stops</td>\n",
       "      <td>No info</td>\n",
       "      <td>7662</td>\n",
       "    </tr>\n",
       "    <tr>\n",
       "      <th>2</th>\n",
       "      <td>Jet Airways</td>\n",
       "      <td>9/06/2019</td>\n",
       "      <td>Delhi</td>\n",
       "      <td>Cochin</td>\n",
       "      <td>DEL → LKO → BOM → COK</td>\n",
       "      <td>09:25</td>\n",
       "      <td>04:25 10 Jun</td>\n",
       "      <td>19h</td>\n",
       "      <td>2 stops</td>\n",
       "      <td>No info</td>\n",
       "      <td>13882</td>\n",
       "    </tr>\n",
       "    <tr>\n",
       "      <th>3</th>\n",
       "      <td>IndiGo</td>\n",
       "      <td>12/05/2019</td>\n",
       "      <td>Kolkata</td>\n",
       "      <td>Banglore</td>\n",
       "      <td>CCU → NAG → BLR</td>\n",
       "      <td>18:05</td>\n",
       "      <td>23:30</td>\n",
       "      <td>5h 25m</td>\n",
       "      <td>1 stop</td>\n",
       "      <td>No info</td>\n",
       "      <td>6218</td>\n",
       "    </tr>\n",
       "    <tr>\n",
       "      <th>4</th>\n",
       "      <td>IndiGo</td>\n",
       "      <td>01/03/2019</td>\n",
       "      <td>Banglore</td>\n",
       "      <td>New Delhi</td>\n",
       "      <td>BLR → NAG → DEL</td>\n",
       "      <td>16:50</td>\n",
       "      <td>21:35</td>\n",
       "      <td>4h 45m</td>\n",
       "      <td>1 stop</td>\n",
       "      <td>No info</td>\n",
       "      <td>13302</td>\n",
       "    </tr>\n",
       "  </tbody>\n",
       "</table>\n",
       "</div>"
      ],
      "text/plain": [
       "       Airline Date_of_Journey    Source Destination                  Route  \\\n",
       "0       IndiGo      24/03/2019  Banglore   New Delhi              BLR → DEL   \n",
       "1    Air India       1/05/2019   Kolkata    Banglore  CCU → IXR → BBI → BLR   \n",
       "2  Jet Airways       9/06/2019     Delhi      Cochin  DEL → LKO → BOM → COK   \n",
       "3       IndiGo      12/05/2019   Kolkata    Banglore        CCU → NAG → BLR   \n",
       "4       IndiGo      01/03/2019  Banglore   New Delhi        BLR → NAG → DEL   \n",
       "\n",
       "  Dep_Time  Arrival_Time Duration Total_Stops Additional_Info  Price  \n",
       "0    22:20  01:10 22 Mar   2h 50m    non-stop         No info   3897  \n",
       "1    05:50         13:15   7h 25m     2 stops         No info   7662  \n",
       "2    09:25  04:25 10 Jun      19h     2 stops         No info  13882  \n",
       "3    18:05         23:30   5h 25m      1 stop         No info   6218  \n",
       "4    16:50         21:35   4h 45m      1 stop         No info  13302  "
      ]
     },
     "execution_count": 4,
     "metadata": {},
     "output_type": "execute_result"
    }
   ],
   "source": [
    "df.head()"
   ]
  },
  {
   "cell_type": "markdown",
   "id": "637b49fa",
   "metadata": {},
   "source": [
    "##### Shape & Info Table"
   ]
  },
  {
   "cell_type": "code",
   "execution_count": 5,
   "id": "4d059909",
   "metadata": {
    "scrolled": true
   },
   "outputs": [
    {
     "name": "stdout",
     "output_type": "stream",
     "text": [
      "\n",
      " #################    Preliminary Information Of Columns before treatment    ################## \n",
      "\n",
      "\n",
      " --------------------------------------INFO_TABLE--------------------------------------- \n",
      "\n",
      "<class 'pandas.core.frame.DataFrame'>\n",
      "RangeIndex: 10683 entries, 0 to 10682\n",
      "Data columns (total 11 columns):\n",
      " #   Column           Non-Null Count  Dtype \n",
      "---  ------           --------------  ----- \n",
      " 0   Airline          10683 non-null  object\n",
      " 1   Date_of_Journey  10683 non-null  object\n",
      " 2   Source           10683 non-null  object\n",
      " 3   Destination      10683 non-null  object\n",
      " 4   Route            10682 non-null  object\n",
      " 5   Dep_Time         10683 non-null  object\n",
      " 6   Arrival_Time     10683 non-null  object\n",
      " 7   Duration         10683 non-null  object\n",
      " 8   Total_Stops      10682 non-null  object\n",
      " 9   Additional_Info  10683 non-null  object\n",
      " 10  Price            10683 non-null  int64 \n",
      "dtypes: int64(1), object(10)\n",
      "memory usage: 918.2+ KB\n",
      "Information of Dataframe : None.\n",
      "\n",
      " --------------------------------------BASIC_INFO--------------------------------------- \n",
      "\n",
      "Rows in Table are : 10683.\n",
      "Columns in Table are : 11.\n",
      "categorical Columns in Table are : 10.\n",
      "Numerical Columns in Table are : 1. \n",
      "\n",
      "----------------------------------------------------------------------------------------- \n",
      "\n"
     ]
    }
   ],
   "source": [
    "def info(df):\n",
    "    print(\"\\n\",\"#################    Preliminary Information Of Columns before treatment    ##################\",\"\\n\")\n",
    "    print(\"\\n\",\"--------------------------------------INFO_TABLE---------------------------------------\",\"\\n\")\n",
    "    print(f\"Information of Dataframe : {df.info()}.\")\n",
    "    print(\"\\n\",\"--------------------------------------BASIC_INFO---------------------------------------\",\"\\n\")\n",
    "    print(f\"Rows in Table are : {df.shape[0]}.\")\n",
    "    print(f\"Columns in Table are : {df.shape[1]}.\")\n",
    "    print(f\"categorical Columns in Table are : {len(df.select_dtypes(object).columns)}.\")\n",
    "    print(f\"Numerical Columns in Table are : {len(df.select_dtypes(np.number).columns)}.\",\"\\n\")\n",
    "    print(\"-----------------------------------------------------------------------------------------\",\"\\n\")\n",
    "\n",
    "info(df)"
   ]
  },
  {
   "cell_type": "markdown",
   "id": "3324753f",
   "metadata": {},
   "source": [
    "#####  Statistics"
   ]
  },
  {
   "cell_type": "code",
   "execution_count": 6,
   "id": "3add57a0",
   "metadata": {},
   "outputs": [
    {
     "name": "stdout",
     "output_type": "stream",
     "text": [
      "\n",
      " --------------------------------------Statistic's--------------------------------------- \n",
      "\n",
      "1. The Statistics of Numerical Table : \n",
      "\n"
     ]
    },
    {
     "data": {
      "text/html": [
       "<div>\n",
       "<style scoped>\n",
       "    .dataframe tbody tr th:only-of-type {\n",
       "        vertical-align: middle;\n",
       "    }\n",
       "\n",
       "    .dataframe tbody tr th {\n",
       "        vertical-align: top;\n",
       "    }\n",
       "\n",
       "    .dataframe thead th {\n",
       "        text-align: right;\n",
       "    }\n",
       "</style>\n",
       "<table border=\"1\" class=\"dataframe\">\n",
       "  <thead>\n",
       "    <tr style=\"text-align: right;\">\n",
       "      <th></th>\n",
       "      <th>Price</th>\n",
       "    </tr>\n",
       "  </thead>\n",
       "  <tbody>\n",
       "    <tr>\n",
       "      <th>count</th>\n",
       "      <td>10683.000000</td>\n",
       "    </tr>\n",
       "    <tr>\n",
       "      <th>mean</th>\n",
       "      <td>9087.064121</td>\n",
       "    </tr>\n",
       "    <tr>\n",
       "      <th>std</th>\n",
       "      <td>4611.359167</td>\n",
       "    </tr>\n",
       "    <tr>\n",
       "      <th>min</th>\n",
       "      <td>1759.000000</td>\n",
       "    </tr>\n",
       "    <tr>\n",
       "      <th>25%</th>\n",
       "      <td>5277.000000</td>\n",
       "    </tr>\n",
       "    <tr>\n",
       "      <th>50%</th>\n",
       "      <td>8372.000000</td>\n",
       "    </tr>\n",
       "    <tr>\n",
       "      <th>75%</th>\n",
       "      <td>12373.000000</td>\n",
       "    </tr>\n",
       "    <tr>\n",
       "      <th>max</th>\n",
       "      <td>79512.000000</td>\n",
       "    </tr>\n",
       "  </tbody>\n",
       "</table>\n",
       "</div>"
      ],
      "text/plain": [
       "              Price\n",
       "count  10683.000000\n",
       "mean    9087.064121\n",
       "std     4611.359167\n",
       "min     1759.000000\n",
       "25%     5277.000000\n",
       "50%     8372.000000\n",
       "75%    12373.000000\n",
       "max    79512.000000"
      ]
     },
     "execution_count": 6,
     "metadata": {},
     "output_type": "execute_result"
    }
   ],
   "source": [
    "print(\"\\n\",\"--------------------------------------Statistic's---------------------------------------\",\"\\n\")\n",
    "print(\"1. The Statistics of Numerical Table :\",\"\\n\")\n",
    "pd.DataFrame(df.describe())"
   ]
  },
  {
   "cell_type": "code",
   "execution_count": 7,
   "id": "899b0edd",
   "metadata": {
    "scrolled": true
   },
   "outputs": [
    {
     "name": "stdout",
     "output_type": "stream",
     "text": [
      "\n",
      " --------------------------------------Statistic's--------------------------------------- \n",
      "\n",
      "2. The Statistics of Categorical Table : \n",
      "\n"
     ]
    },
    {
     "data": {
      "text/html": [
       "<div>\n",
       "<style scoped>\n",
       "    .dataframe tbody tr th:only-of-type {\n",
       "        vertical-align: middle;\n",
       "    }\n",
       "\n",
       "    .dataframe tbody tr th {\n",
       "        vertical-align: top;\n",
       "    }\n",
       "\n",
       "    .dataframe thead th {\n",
       "        text-align: right;\n",
       "    }\n",
       "</style>\n",
       "<table border=\"1\" class=\"dataframe\">\n",
       "  <thead>\n",
       "    <tr style=\"text-align: right;\">\n",
       "      <th></th>\n",
       "      <th>Airline</th>\n",
       "      <th>Date_of_Journey</th>\n",
       "      <th>Source</th>\n",
       "      <th>Destination</th>\n",
       "      <th>Route</th>\n",
       "      <th>Dep_Time</th>\n",
       "      <th>Arrival_Time</th>\n",
       "      <th>Duration</th>\n",
       "      <th>Total_Stops</th>\n",
       "      <th>Additional_Info</th>\n",
       "    </tr>\n",
       "  </thead>\n",
       "  <tbody>\n",
       "    <tr>\n",
       "      <th>count</th>\n",
       "      <td>10683</td>\n",
       "      <td>10683</td>\n",
       "      <td>10683</td>\n",
       "      <td>10683</td>\n",
       "      <td>10682</td>\n",
       "      <td>10683</td>\n",
       "      <td>10683</td>\n",
       "      <td>10683</td>\n",
       "      <td>10682</td>\n",
       "      <td>10683</td>\n",
       "    </tr>\n",
       "    <tr>\n",
       "      <th>unique</th>\n",
       "      <td>12</td>\n",
       "      <td>44</td>\n",
       "      <td>5</td>\n",
       "      <td>6</td>\n",
       "      <td>128</td>\n",
       "      <td>222</td>\n",
       "      <td>1343</td>\n",
       "      <td>368</td>\n",
       "      <td>5</td>\n",
       "      <td>10</td>\n",
       "    </tr>\n",
       "    <tr>\n",
       "      <th>top</th>\n",
       "      <td>Jet Airways</td>\n",
       "      <td>18/05/2019</td>\n",
       "      <td>Delhi</td>\n",
       "      <td>Cochin</td>\n",
       "      <td>DEL → BOM → COK</td>\n",
       "      <td>18:55</td>\n",
       "      <td>19:00</td>\n",
       "      <td>2h 50m</td>\n",
       "      <td>1 stop</td>\n",
       "      <td>No info</td>\n",
       "    </tr>\n",
       "    <tr>\n",
       "      <th>freq</th>\n",
       "      <td>3849</td>\n",
       "      <td>504</td>\n",
       "      <td>4537</td>\n",
       "      <td>4537</td>\n",
       "      <td>2376</td>\n",
       "      <td>233</td>\n",
       "      <td>423</td>\n",
       "      <td>550</td>\n",
       "      <td>5625</td>\n",
       "      <td>8345</td>\n",
       "    </tr>\n",
       "  </tbody>\n",
       "</table>\n",
       "</div>"
      ],
      "text/plain": [
       "            Airline Date_of_Journey Source Destination            Route  \\\n",
       "count         10683           10683  10683       10683            10682   \n",
       "unique           12              44      5           6              128   \n",
       "top     Jet Airways      18/05/2019  Delhi      Cochin  DEL → BOM → COK   \n",
       "freq           3849             504   4537        4537             2376   \n",
       "\n",
       "       Dep_Time Arrival_Time Duration Total_Stops Additional_Info  \n",
       "count     10683        10683    10683       10682           10683  \n",
       "unique      222         1343      368           5              10  \n",
       "top       18:55        19:00   2h 50m      1 stop         No info  \n",
       "freq        233          423      550        5625            8345  "
      ]
     },
     "execution_count": 7,
     "metadata": {},
     "output_type": "execute_result"
    }
   ],
   "source": [
    "print(\"\\n\",\"--------------------------------------Statistic's---------------------------------------\",\"\\n\")\n",
    "print(\"2. The Statistics of Categorical Table :\",\"\\n\")\n",
    "pd.DataFrame(df.select_dtypes(object).describe())"
   ]
  },
  {
   "cell_type": "markdown",
   "id": "29fe958c",
   "metadata": {},
   "source": [
    "##### Treatment of Dupticed value :"
   ]
  },
  {
   "cell_type": "code",
   "execution_count": 8,
   "id": "29d38974",
   "metadata": {
    "scrolled": true
   },
   "outputs": [
    {
     "name": "stdout",
     "output_type": "stream",
     "text": [
      "1. Table Contain's 220 Duplicated Values. So, We have to remove it.\n",
      "2. Duplicate's Values are treated\n"
     ]
    }
   ],
   "source": [
    "def Treat_duplicated(df):\n",
    "    a = df.duplicated().sum()\n",
    "    if a >= 1:\n",
    "        print(f\"1. Table Contain's {a} Duplicated Values. So, We have to remove it.\")\n",
    "        df.drop_duplicates(inplace=True)\n",
    "        print(\"2. Duplicate's Values are treated\")\n",
    "    else:\n",
    "        print(\"1. Table doesn't Contain Duplicates Values.\")\n",
    "        \n",
    "Treat_duplicated(df)"
   ]
  },
  {
   "cell_type": "markdown",
   "id": "5fa394c3",
   "metadata": {},
   "source": [
    "##### Treatment Of Null Values :"
   ]
  },
  {
   "cell_type": "code",
   "execution_count": 9,
   "id": "443509d3",
   "metadata": {},
   "outputs": [
    {
     "data": {
      "text/html": [
       "<div>\n",
       "<style scoped>\n",
       "    .dataframe tbody tr th:only-of-type {\n",
       "        vertical-align: middle;\n",
       "    }\n",
       "\n",
       "    .dataframe tbody tr th {\n",
       "        vertical-align: top;\n",
       "    }\n",
       "\n",
       "    .dataframe thead th {\n",
       "        text-align: right;\n",
       "    }\n",
       "</style>\n",
       "<table border=\"1\" class=\"dataframe\">\n",
       "  <thead>\n",
       "    <tr style=\"text-align: right;\">\n",
       "      <th></th>\n",
       "      <th>0</th>\n",
       "    </tr>\n",
       "  </thead>\n",
       "  <tbody>\n",
       "    <tr>\n",
       "      <th>Airline</th>\n",
       "      <td>0</td>\n",
       "    </tr>\n",
       "    <tr>\n",
       "      <th>Date_of_Journey</th>\n",
       "      <td>0</td>\n",
       "    </tr>\n",
       "    <tr>\n",
       "      <th>Source</th>\n",
       "      <td>0</td>\n",
       "    </tr>\n",
       "    <tr>\n",
       "      <th>Destination</th>\n",
       "      <td>0</td>\n",
       "    </tr>\n",
       "    <tr>\n",
       "      <th>Route</th>\n",
       "      <td>1</td>\n",
       "    </tr>\n",
       "    <tr>\n",
       "      <th>Dep_Time</th>\n",
       "      <td>0</td>\n",
       "    </tr>\n",
       "    <tr>\n",
       "      <th>Arrival_Time</th>\n",
       "      <td>0</td>\n",
       "    </tr>\n",
       "    <tr>\n",
       "      <th>Duration</th>\n",
       "      <td>0</td>\n",
       "    </tr>\n",
       "    <tr>\n",
       "      <th>Total_Stops</th>\n",
       "      <td>1</td>\n",
       "    </tr>\n",
       "    <tr>\n",
       "      <th>Additional_Info</th>\n",
       "      <td>0</td>\n",
       "    </tr>\n",
       "    <tr>\n",
       "      <th>Price</th>\n",
       "      <td>0</td>\n",
       "    </tr>\n",
       "  </tbody>\n",
       "</table>\n",
       "</div>"
      ],
      "text/plain": [
       "                 0\n",
       "Airline          0\n",
       "Date_of_Journey  0\n",
       "Source           0\n",
       "Destination      0\n",
       "Route            1\n",
       "Dep_Time         0\n",
       "Arrival_Time     0\n",
       "Duration         0\n",
       "Total_Stops      1\n",
       "Additional_Info  0\n",
       "Price            0"
      ]
     },
     "execution_count": 9,
     "metadata": {},
     "output_type": "execute_result"
    }
   ],
   "source": [
    "pd.DataFrame(df.isna().sum())                   #### Table contain very less missing Values(only 2), So We remove them"
   ]
  },
  {
   "cell_type": "code",
   "execution_count": 10,
   "id": "3dfce5fd",
   "metadata": {
    "scrolled": false
   },
   "outputs": [
    {
     "data": {
      "text/html": [
       "<div>\n",
       "<style scoped>\n",
       "    .dataframe tbody tr th:only-of-type {\n",
       "        vertical-align: middle;\n",
       "    }\n",
       "\n",
       "    .dataframe tbody tr th {\n",
       "        vertical-align: top;\n",
       "    }\n",
       "\n",
       "    .dataframe thead th {\n",
       "        text-align: right;\n",
       "    }\n",
       "</style>\n",
       "<table border=\"1\" class=\"dataframe\">\n",
       "  <thead>\n",
       "    <tr style=\"text-align: right;\">\n",
       "      <th></th>\n",
       "      <th>0</th>\n",
       "    </tr>\n",
       "  </thead>\n",
       "  <tbody>\n",
       "    <tr>\n",
       "      <th>Airline</th>\n",
       "      <td>0</td>\n",
       "    </tr>\n",
       "    <tr>\n",
       "      <th>Date_of_Journey</th>\n",
       "      <td>0</td>\n",
       "    </tr>\n",
       "    <tr>\n",
       "      <th>Source</th>\n",
       "      <td>0</td>\n",
       "    </tr>\n",
       "    <tr>\n",
       "      <th>Destination</th>\n",
       "      <td>0</td>\n",
       "    </tr>\n",
       "    <tr>\n",
       "      <th>Route</th>\n",
       "      <td>0</td>\n",
       "    </tr>\n",
       "    <tr>\n",
       "      <th>Dep_Time</th>\n",
       "      <td>0</td>\n",
       "    </tr>\n",
       "    <tr>\n",
       "      <th>Arrival_Time</th>\n",
       "      <td>0</td>\n",
       "    </tr>\n",
       "    <tr>\n",
       "      <th>Duration</th>\n",
       "      <td>0</td>\n",
       "    </tr>\n",
       "    <tr>\n",
       "      <th>Total_Stops</th>\n",
       "      <td>0</td>\n",
       "    </tr>\n",
       "    <tr>\n",
       "      <th>Additional_Info</th>\n",
       "      <td>0</td>\n",
       "    </tr>\n",
       "    <tr>\n",
       "      <th>Price</th>\n",
       "      <td>0</td>\n",
       "    </tr>\n",
       "  </tbody>\n",
       "</table>\n",
       "</div>"
      ],
      "text/plain": [
       "                 0\n",
       "Airline          0\n",
       "Date_of_Journey  0\n",
       "Source           0\n",
       "Destination      0\n",
       "Route            0\n",
       "Dep_Time         0\n",
       "Arrival_Time     0\n",
       "Duration         0\n",
       "Total_Stops      0\n",
       "Additional_Info  0\n",
       "Price            0"
      ]
     },
     "execution_count": 10,
     "metadata": {},
     "output_type": "execute_result"
    }
   ],
   "source": [
    "df.dropna(inplace=True)\n",
    "a = pd.DataFrame(df.isna().sum())\n",
    "a"
   ]
  },
  {
   "cell_type": "markdown",
   "id": "482fbab9",
   "metadata": {},
   "source": [
    "### Data_Cleaning :"
   ]
  },
  {
   "cell_type": "code",
   "execution_count": 11,
   "id": "1e67d34b",
   "metadata": {},
   "outputs": [],
   "source": [
    "del df['Route']\n",
    "### This Does not effect on model but it included in stops column."
   ]
  },
  {
   "cell_type": "code",
   "execution_count": 12,
   "id": "4b1fc0bd",
   "metadata": {},
   "outputs": [],
   "source": [
    "df['Dep_Time'] = pd.to_datetime(df['Dep_Time'])\n",
    "df['Dep_Time'] = df['Dep_Time'].dt.hour\n",
    "df['Arrival_Time'] = pd.to_datetime(df['Arrival_Time'])\n",
    "df['Arrival_Time'] = df['Arrival_Time'].dt.hour"
   ]
  },
  {
   "cell_type": "code",
   "execution_count": 13,
   "id": "0219e755",
   "metadata": {},
   "outputs": [],
   "source": [
    "def Time(df):\n",
    "    if (df > 4 ) and (df <= 8):\n",
    "        return \"Early Morning\"\n",
    "    elif (df > 8 ) and (df <= 12):\n",
    "        return \"Morning\"\n",
    "    elif (df > 12 ) and (df <= 16):\n",
    "        return \"AfterNoon\"\n",
    "    elif (df > 16 ) and (df <= 20):\n",
    "        return \"Evening\"\n",
    "    elif (df > 20 ) and (df <= 24):\n",
    "        return \"Night\"\n",
    "    else:\n",
    "        \"Mid_Night\"\n",
    "        \n",
    "df['Dep_Time'] = df['Dep_Time'].apply(Time)\n",
    "df['Arrival_Time'] = df['Arrival_Time'].apply(Time)\n",
    "\n",
    "### This values are converted into Day interval for better model."
   ]
  },
  {
   "cell_type": "code",
   "execution_count": 14,
   "id": "be975dc0",
   "metadata": {
    "scrolled": false
   },
   "outputs": [
    {
     "data": {
      "text/plain": [
       "<Axes: xlabel='Arrival_Time'>"
      ]
     },
     "execution_count": 14,
     "metadata": {},
     "output_type": "execute_result"
    },
    {
     "data": {
      "image/png": "[encoded data removed]",
      "text/plain": [
       "<Figure size 640x480 with 1 Axes>"
      ]
     },
     "metadata": {},
     "output_type": "display_data"
    }
   ],
   "source": [
    "df['Arrival_Time'].value_counts().plot(kind='bar')     ### Customer mostly prefer flights have Evening arrival time for their satisfaction"
   ]
  },
  {
   "cell_type": "code",
   "execution_count": 15,
   "id": "10be6da5",
   "metadata": {},
   "outputs": [
    {
     "data": {
      "text/plain": [
       "<Axes: xlabel='Dep_Time'>"
      ]
     },
     "execution_count": 15,
     "metadata": {},
     "output_type": "execute_result"
    },
    {
     "data": {
      "image/png": "[encoded data removed]",
      "text/plain": [
       "<Figure size 640x480 with 1 Axes>"
      ]
     },
     "metadata": {},
     "output_type": "display_data"
    }
   ],
   "source": [
    "df['Dep_Time'].value_counts().plot(kind='bar')  ### Customer mostly prefer flights have Early Morning Departure time for their satisfaction to arrive to their destination in evening."
   ]
  },
  {
   "cell_type": "code",
   "execution_count": 16,
   "id": "301bf72c",
   "metadata": {},
   "outputs": [],
   "source": [
    "df[\"Duration_min\"] = df['Duration'].str.replace('h',\"*60\").str.replace(' ','+').str.replace('m','*1').apply(eval)\n",
    "del df['Duration']   ### Convert Duration Column into Duration_min."
   ]
  },
  {
   "cell_type": "code",
   "execution_count": 17,
   "id": "d74c6fc8",
   "metadata": {},
   "outputs": [
    {
     "data": {
      "text/html": [
       "<div>\n",
       "<style scoped>\n",
       "    .dataframe tbody tr th:only-of-type {\n",
       "        vertical-align: middle;\n",
       "    }\n",
       "\n",
       "    .dataframe tbody tr th {\n",
       "        vertical-align: top;\n",
       "    }\n",
       "\n",
       "    .dataframe thead th {\n",
       "        text-align: right;\n",
       "    }\n",
       "</style>\n",
       "<table border=\"1\" class=\"dataframe\">\n",
       "  <thead>\n",
       "    <tr style=\"text-align: right;\">\n",
       "      <th></th>\n",
       "      <th>Airline</th>\n",
       "      <th>Date_of_Journey</th>\n",
       "      <th>Source</th>\n",
       "      <th>Destination</th>\n",
       "      <th>Dep_Time</th>\n",
       "      <th>Arrival_Time</th>\n",
       "      <th>Total_Stops</th>\n",
       "      <th>Additional_Info</th>\n",
       "      <th>Price</th>\n",
       "      <th>Duration_min</th>\n",
       "    </tr>\n",
       "  </thead>\n",
       "  <tbody>\n",
       "    <tr>\n",
       "      <th>0</th>\n",
       "      <td>IndiGo</td>\n",
       "      <td>24/03/2019</td>\n",
       "      <td>Banglore</td>\n",
       "      <td>New Delhi</td>\n",
       "      <td>Night</td>\n",
       "      <td>None</td>\n",
       "      <td>non-stop</td>\n",
       "      <td>No info</td>\n",
       "      <td>3897</td>\n",
       "      <td>170</td>\n",
       "    </tr>\n",
       "    <tr>\n",
       "      <th>1</th>\n",
       "      <td>Air India</td>\n",
       "      <td>1/05/2019</td>\n",
       "      <td>Kolkata</td>\n",
       "      <td>Banglore</td>\n",
       "      <td>Early Morning</td>\n",
       "      <td>AfterNoon</td>\n",
       "      <td>2 stops</td>\n",
       "      <td>No info</td>\n",
       "      <td>7662</td>\n",
       "      <td>445</td>\n",
       "    </tr>\n",
       "    <tr>\n",
       "      <th>2</th>\n",
       "      <td>Jet Airways</td>\n",
       "      <td>9/06/2019</td>\n",
       "      <td>Delhi</td>\n",
       "      <td>Cochin</td>\n",
       "      <td>Morning</td>\n",
       "      <td>None</td>\n",
       "      <td>2 stops</td>\n",
       "      <td>No info</td>\n",
       "      <td>13882</td>\n",
       "      <td>1140</td>\n",
       "    </tr>\n",
       "    <tr>\n",
       "      <th>3</th>\n",
       "      <td>IndiGo</td>\n",
       "      <td>12/05/2019</td>\n",
       "      <td>Kolkata</td>\n",
       "      <td>Banglore</td>\n",
       "      <td>Evening</td>\n",
       "      <td>Night</td>\n",
       "      <td>1 stop</td>\n",
       "      <td>No info</td>\n",
       "      <td>6218</td>\n",
       "      <td>325</td>\n",
       "    </tr>\n",
       "    <tr>\n",
       "      <th>4</th>\n",
       "      <td>IndiGo</td>\n",
       "      <td>01/03/2019</td>\n",
       "      <td>Banglore</td>\n",
       "      <td>New Delhi</td>\n",
       "      <td>AfterNoon</td>\n",
       "      <td>Night</td>\n",
       "      <td>1 stop</td>\n",
       "      <td>No info</td>\n",
       "      <td>13302</td>\n",
       "      <td>285</td>\n",
       "    </tr>\n",
       "  </tbody>\n",
       "</table>\n",
       "</div>"
      ],
      "text/plain": [
       "       Airline Date_of_Journey    Source Destination       Dep_Time  \\\n",
       "0       IndiGo      24/03/2019  Banglore   New Delhi          Night   \n",
       "1    Air India       1/05/2019   Kolkata    Banglore  Early Morning   \n",
       "2  Jet Airways       9/06/2019     Delhi      Cochin        Morning   \n",
       "3       IndiGo      12/05/2019   Kolkata    Banglore        Evening   \n",
       "4       IndiGo      01/03/2019  Banglore   New Delhi      AfterNoon   \n",
       "\n",
       "  Arrival_Time Total_Stops Additional_Info  Price  Duration_min  \n",
       "0         None    non-stop         No info   3897           170  \n",
       "1    AfterNoon     2 stops         No info   7662           445  \n",
       "2         None     2 stops         No info  13882          1140  \n",
       "3        Night      1 stop         No info   6218           325  \n",
       "4        Night      1 stop         No info  13302           285  "
      ]
     },
     "execution_count": 17,
     "metadata": {},
     "output_type": "execute_result"
    }
   ],
   "source": [
    "df.head()"
   ]
  },
  {
   "cell_type": "markdown",
   "id": "075b2eb7",
   "metadata": {},
   "source": [
    "##### b) Extract Date, Month, Year from Date of Journey column"
   ]
  },
  {
   "cell_type": "code",
   "execution_count": 18,
   "id": "07a021fd",
   "metadata": {},
   "outputs": [],
   "source": [
    "df['Date_of_Journey'] = pd.to_datetime(df['Date_of_Journey'])"
   ]
  },
  {
   "cell_type": "code",
   "execution_count": 19,
   "id": "49e65554",
   "metadata": {},
   "outputs": [],
   "source": [
    "df['Date'] = df['Date_of_Journey'].dt.day\n",
    "df['Month'] = df['Date_of_Journey'].dt.month\n",
    "df['year'] = df['Date_of_Journey'].dt.year"
   ]
  },
  {
   "cell_type": "code",
   "execution_count": 20,
   "id": "f4186dea",
   "metadata": {},
   "outputs": [
    {
     "data": {
      "text/html": [
       "<div>\n",
       "<style scoped>\n",
       "    .dataframe tbody tr th:only-of-type {\n",
       "        vertical-align: middle;\n",
       "    }\n",
       "\n",
       "    .dataframe tbody tr th {\n",
       "        vertical-align: top;\n",
       "    }\n",
       "\n",
       "    .dataframe thead th {\n",
       "        text-align: right;\n",
       "    }\n",
       "</style>\n",
       "<table border=\"1\" class=\"dataframe\">\n",
       "  <thead>\n",
       "    <tr style=\"text-align: right;\">\n",
       "      <th></th>\n",
       "      <th>Airline</th>\n",
       "      <th>Date_of_Journey</th>\n",
       "      <th>Source</th>\n",
       "      <th>Destination</th>\n",
       "      <th>Dep_Time</th>\n",
       "      <th>Arrival_Time</th>\n",
       "      <th>Total_Stops</th>\n",
       "      <th>Additional_Info</th>\n",
       "      <th>Price</th>\n",
       "      <th>Duration_min</th>\n",
       "      <th>Date</th>\n",
       "      <th>Month</th>\n",
       "      <th>year</th>\n",
       "    </tr>\n",
       "  </thead>\n",
       "  <tbody>\n",
       "    <tr>\n",
       "      <th>0</th>\n",
       "      <td>IndiGo</td>\n",
       "      <td>2019-03-24</td>\n",
       "      <td>Banglore</td>\n",
       "      <td>New Delhi</td>\n",
       "      <td>Night</td>\n",
       "      <td>None</td>\n",
       "      <td>non-stop</td>\n",
       "      <td>No info</td>\n",
       "      <td>3897</td>\n",
       "      <td>170</td>\n",
       "      <td>24</td>\n",
       "      <td>3</td>\n",
       "      <td>2019</td>\n",
       "    </tr>\n",
       "    <tr>\n",
       "      <th>1</th>\n",
       "      <td>Air India</td>\n",
       "      <td>2019-05-01</td>\n",
       "      <td>Kolkata</td>\n",
       "      <td>Banglore</td>\n",
       "      <td>Early Morning</td>\n",
       "      <td>AfterNoon</td>\n",
       "      <td>2 stops</td>\n",
       "      <td>No info</td>\n",
       "      <td>7662</td>\n",
       "      <td>445</td>\n",
       "      <td>1</td>\n",
       "      <td>5</td>\n",
       "      <td>2019</td>\n",
       "    </tr>\n",
       "    <tr>\n",
       "      <th>2</th>\n",
       "      <td>Jet Airways</td>\n",
       "      <td>2019-06-09</td>\n",
       "      <td>Delhi</td>\n",
       "      <td>Cochin</td>\n",
       "      <td>Morning</td>\n",
       "      <td>None</td>\n",
       "      <td>2 stops</td>\n",
       "      <td>No info</td>\n",
       "      <td>13882</td>\n",
       "      <td>1140</td>\n",
       "      <td>9</td>\n",
       "      <td>6</td>\n",
       "      <td>2019</td>\n",
       "    </tr>\n",
       "    <tr>\n",
       "      <th>3</th>\n",
       "      <td>IndiGo</td>\n",
       "      <td>2019-05-12</td>\n",
       "      <td>Kolkata</td>\n",
       "      <td>Banglore</td>\n",
       "      <td>Evening</td>\n",
       "      <td>Night</td>\n",
       "      <td>1 stop</td>\n",
       "      <td>No info</td>\n",
       "      <td>6218</td>\n",
       "      <td>325</td>\n",
       "      <td>12</td>\n",
       "      <td>5</td>\n",
       "      <td>2019</td>\n",
       "    </tr>\n",
       "    <tr>\n",
       "      <th>4</th>\n",
       "      <td>IndiGo</td>\n",
       "      <td>2019-03-01</td>\n",
       "      <td>Banglore</td>\n",
       "      <td>New Delhi</td>\n",
       "      <td>AfterNoon</td>\n",
       "      <td>Night</td>\n",
       "      <td>1 stop</td>\n",
       "      <td>No info</td>\n",
       "      <td>13302</td>\n",
       "      <td>285</td>\n",
       "      <td>1</td>\n",
       "      <td>3</td>\n",
       "      <td>2019</td>\n",
       "    </tr>\n",
       "  </tbody>\n",
       "</table>\n",
       "</div>"
      ],
      "text/plain": [
       "       Airline Date_of_Journey    Source Destination       Dep_Time  \\\n",
       "0       IndiGo      2019-03-24  Banglore   New Delhi          Night   \n",
       "1    Air India      2019-05-01   Kolkata    Banglore  Early Morning   \n",
       "2  Jet Airways      2019-06-09     Delhi      Cochin        Morning   \n",
       "3       IndiGo      2019-05-12   Kolkata    Banglore        Evening   \n",
       "4       IndiGo      2019-03-01  Banglore   New Delhi      AfterNoon   \n",
       "\n",
       "  Arrival_Time Total_Stops Additional_Info  Price  Duration_min  Date  Month  \\\n",
       "0         None    non-stop         No info   3897           170    24      3   \n",
       "1    AfterNoon     2 stops         No info   7662           445     1      5   \n",
       "2         None     2 stops         No info  13882          1140     9      6   \n",
       "3        Night      1 stop         No info   6218           325    12      5   \n",
       "4        Night      1 stop         No info  13302           285     1      3   \n",
       "\n",
       "   year  \n",
       "0  2019  \n",
       "1  2019  \n",
       "2  2019  \n",
       "3  2019  \n",
       "4  2019  "
      ]
     },
     "execution_count": 20,
     "metadata": {},
     "output_type": "execute_result"
    }
   ],
   "source": [
    "df.head()"
   ]
  },
  {
   "cell_type": "markdown",
   "id": "e2ab0b3e",
   "metadata": {},
   "source": [
    "## Q.2 Perform EDA"
   ]
  },
  {
   "cell_type": "markdown",
   "id": "23765a14",
   "metadata": {},
   "source": [
    "##### a.  Which airline is most preferred airline"
   ]
  },
  {
   "cell_type": "code",
   "execution_count": 21,
   "id": "934334ae",
   "metadata": {},
   "outputs": [
    {
     "data": {
      "text/plain": [
       "<Axes: ylabel='count'>"
      ]
     },
     "execution_count": 21,
     "metadata": {},
     "output_type": "execute_result"
    },
    {
     "data": {
      "image/png": "[encoded data removed]",
      "text/plain": [
       "<Figure size 640x480 with 1 Axes>"
      ]
     },
     "metadata": {},
     "output_type": "display_data"
    }
   ],
   "source": [
    "df.Airline.value_counts().plot.pie(autopct = \"%1.f%%\")\n",
    "\n",
    "### Interpretation : Jet Airways have more preference than any other Airlines & preference is 35%."
   ]
  },
  {
   "cell_type": "markdown",
   "id": "928d3122",
   "metadata": {},
   "source": [
    "##### b. Find the majority of the flights take off from which source"
   ]
  },
  {
   "cell_type": "code",
   "execution_count": 22,
   "id": "d05774f7",
   "metadata": {},
   "outputs": [
    {
     "data": {
      "text/plain": [
       "<Axes: ylabel='count'>"
      ]
     },
     "execution_count": 22,
     "metadata": {},
     "output_type": "execute_result"
    },
    {
     "data": {
      "image/png": "[encoded data removed]",
      "text/plain": [
       "<Figure size 640x480 with 1 Axes>"
      ]
     },
     "metadata": {},
     "output_type": "display_data"
    }
   ],
   "source": [
    "df.Source.value_counts().plot.pie(autopct = \"%1.f%%\")\n",
    "\n",
    "## Interpretation :The majority of the flights take off from source which is Delhi is about 42%"
   ]
  },
  {
   "cell_type": "markdown",
   "id": "37b63a8e",
   "metadata": {},
   "source": [
    "##### c. Find maximum flights land in which destination"
   ]
  },
  {
   "cell_type": "code",
   "execution_count": 23,
   "id": "c55a674c",
   "metadata": {},
   "outputs": [
    {
     "data": {
      "text/plain": [
       "<Axes: ylabel='count'>"
      ]
     },
     "execution_count": 23,
     "metadata": {},
     "output_type": "execute_result"
    },
    {
     "data": {
      "image/png": "[encoded data removed]",
      "text/plain": [
       "<Figure size 640x480 with 1 Axes>"
      ]
     },
     "metadata": {},
     "output_type": "display_data"
    }
   ],
   "source": [
    "df.Destination.value_counts().plot.pie(autopct = \"%1.f%%\")\n",
    "\n",
    "## Interpretation :The maximum flights land in  Cochin Airport as a destination is about 42%."
   ]
  },
  {
   "cell_type": "markdown",
   "id": "f05d76a6",
   "metadata": {},
   "source": [
    "## Q.3 Compare independent features with Target feature to check the impact on price\n"
   ]
  },
  {
   "cell_type": "markdown",
   "id": "77f3325e",
   "metadata": {},
   "source": [
    "##### a. Which airline has the highest price"
   ]
  },
  {
   "cell_type": "code",
   "execution_count": 24,
   "id": "e6ef9dff",
   "metadata": {},
   "outputs": [
    {
     "name": "stdout",
     "output_type": "stream",
     "text": [
      "Highest Price of Airline : Jet Airways Business\n",
      "Highest Price : 79512\n"
     ]
    }
   ],
   "source": [
    "Airline_High_Price = df.groupby('Airline')['Price'].max()\n",
    "High_Price = df.groupby(\"Airline\")['Price'].max().max()\n",
    "print(f'Highest Price of Airline : {Airline_High_Price.idxmax()}')\n",
    "print(f'Highest Price : {High_Price}')"
   ]
  },
  {
   "cell_type": "markdown",
   "id": "dc118410",
   "metadata": {},
   "source": [
    "##### b. Check if the business class flights are high price or low and find  only those flights which price is higher than 50k"
   ]
  },
  {
   "cell_type": "code",
   "execution_count": 25,
   "id": "b6a5a329",
   "metadata": {},
   "outputs": [
    {
     "data": {
      "text/html": [
       "<div>\n",
       "<style scoped>\n",
       "    .dataframe tbody tr th:only-of-type {\n",
       "        vertical-align: middle;\n",
       "    }\n",
       "\n",
       "    .dataframe tbody tr th {\n",
       "        vertical-align: top;\n",
       "    }\n",
       "\n",
       "    .dataframe thead th {\n",
       "        text-align: right;\n",
       "    }\n",
       "</style>\n",
       "<table border=\"1\" class=\"dataframe\">\n",
       "  <thead>\n",
       "    <tr style=\"text-align: right;\">\n",
       "      <th></th>\n",
       "      <th>count</th>\n",
       "    </tr>\n",
       "    <tr>\n",
       "      <th>Additional_Info</th>\n",
       "      <th></th>\n",
       "    </tr>\n",
       "  </thead>\n",
       "  <tbody>\n",
       "    <tr>\n",
       "      <th>No info</th>\n",
       "      <td>8182</td>\n",
       "    </tr>\n",
       "    <tr>\n",
       "      <th>In-flight meal not included</th>\n",
       "      <td>1926</td>\n",
       "    </tr>\n",
       "    <tr>\n",
       "      <th>No check-in baggage included</th>\n",
       "      <td>318</td>\n",
       "    </tr>\n",
       "    <tr>\n",
       "      <th>1 Long layover</th>\n",
       "      <td>19</td>\n",
       "    </tr>\n",
       "    <tr>\n",
       "      <th>Change airports</th>\n",
       "      <td>7</td>\n",
       "    </tr>\n",
       "    <tr>\n",
       "      <th>Business class</th>\n",
       "      <td>4</td>\n",
       "    </tr>\n",
       "    <tr>\n",
       "      <th>No Info</th>\n",
       "      <td>3</td>\n",
       "    </tr>\n",
       "    <tr>\n",
       "      <th>1 Short layover</th>\n",
       "      <td>1</td>\n",
       "    </tr>\n",
       "    <tr>\n",
       "      <th>Red-eye flight</th>\n",
       "      <td>1</td>\n",
       "    </tr>\n",
       "    <tr>\n",
       "      <th>2 Long layover</th>\n",
       "      <td>1</td>\n",
       "    </tr>\n",
       "  </tbody>\n",
       "</table>\n",
       "</div>"
      ],
      "text/plain": [
       "                              count\n",
       "Additional_Info                    \n",
       "No info                        8182\n",
       "In-flight meal not included    1926\n",
       "No check-in baggage included    318\n",
       "1 Long layover                   19\n",
       "Change airports                   7\n",
       "Business class                    4\n",
       "No Info                           3\n",
       "1 Short layover                   1\n",
       "Red-eye flight                    1\n",
       "2 Long layover                    1"
      ]
     },
     "execution_count": 25,
     "metadata": {},
     "output_type": "execute_result"
    }
   ],
   "source": [
    "pd.DataFrame(df['Additional_Info'].value_counts())"
   ]
  },
  {
   "cell_type": "code",
   "execution_count": 26,
   "id": "53ebb43f",
   "metadata": {},
   "outputs": [
    {
     "data": {
      "text/html": [
       "<div>\n",
       "<style scoped>\n",
       "    .dataframe tbody tr th:only-of-type {\n",
       "        vertical-align: middle;\n",
       "    }\n",
       "\n",
       "    .dataframe tbody tr th {\n",
       "        vertical-align: top;\n",
       "    }\n",
       "\n",
       "    .dataframe thead th {\n",
       "        text-align: right;\n",
       "    }\n",
       "</style>\n",
       "<table border=\"1\" class=\"dataframe\">\n",
       "  <thead>\n",
       "    <tr style=\"text-align: right;\">\n",
       "      <th></th>\n",
       "      <th>Airline</th>\n",
       "      <th>Price</th>\n",
       "      <th>Additional_Info</th>\n",
       "    </tr>\n",
       "  </thead>\n",
       "  <tbody>\n",
       "    <tr>\n",
       "      <th>2924</th>\n",
       "      <td>Jet Airways Business</td>\n",
       "      <td>79512</td>\n",
       "      <td>Business class</td>\n",
       "    </tr>\n",
       "    <tr>\n",
       "      <th>3032</th>\n",
       "      <td>Jet Airways</td>\n",
       "      <td>28097</td>\n",
       "      <td>Business class</td>\n",
       "    </tr>\n",
       "    <tr>\n",
       "      <th>5372</th>\n",
       "      <td>Jet Airways Business</td>\n",
       "      <td>62427</td>\n",
       "      <td>Business class</td>\n",
       "    </tr>\n",
       "    <tr>\n",
       "      <th>10364</th>\n",
       "      <td>Jet Airways Business</td>\n",
       "      <td>57209</td>\n",
       "      <td>Business class</td>\n",
       "    </tr>\n",
       "  </tbody>\n",
       "</table>\n",
       "</div>"
      ],
      "text/plain": [
       "                    Airline  Price Additional_Info\n",
       "2924   Jet Airways Business  79512  Business class\n",
       "3032            Jet Airways  28097  Business class\n",
       "5372   Jet Airways Business  62427  Business class\n",
       "10364  Jet Airways Business  57209  Business class"
      ]
     },
     "execution_count": 26,
     "metadata": {},
     "output_type": "execute_result"
    }
   ],
   "source": [
    "Business_Class_flights = df[df['Additional_Info']=='Business class']\n",
    "Business_Class_flights = Business_Class_flights[['Airline','Price','Additional_Info']]\n",
    "Business_Class_flights"
   ]
  },
  {
   "cell_type": "code",
   "execution_count": 27,
   "id": "3108bd9e",
   "metadata": {
    "scrolled": true
   },
   "outputs": [
    {
     "name": "stdout",
     "output_type": "stream",
     "text": [
      "Interpretation : There 8 flights are High price Flights.\n"
     ]
    },
    {
     "data": {
      "text/html": [
       "<div>\n",
       "<style scoped>\n",
       "    .dataframe tbody tr th:only-of-type {\n",
       "        vertical-align: middle;\n",
       "    }\n",
       "\n",
       "    .dataframe tbody tr th {\n",
       "        vertical-align: top;\n",
       "    }\n",
       "\n",
       "    .dataframe thead th {\n",
       "        text-align: right;\n",
       "    }\n",
       "</style>\n",
       "<table border=\"1\" class=\"dataframe\">\n",
       "  <thead>\n",
       "    <tr style=\"text-align: right;\">\n",
       "      <th></th>\n",
       "      <th>Airline</th>\n",
       "      <th>Price</th>\n",
       "      <th>Additional_Info</th>\n",
       "    </tr>\n",
       "  </thead>\n",
       "  <tbody>\n",
       "    <tr>\n",
       "      <th>657</th>\n",
       "      <td>Jet Airways Business</td>\n",
       "      <td>52229</td>\n",
       "      <td>No info</td>\n",
       "    </tr>\n",
       "    <tr>\n",
       "      <th>1478</th>\n",
       "      <td>Jet Airways</td>\n",
       "      <td>54826</td>\n",
       "      <td>No info</td>\n",
       "    </tr>\n",
       "    <tr>\n",
       "      <th>2618</th>\n",
       "      <td>Jet Airways</td>\n",
       "      <td>54826</td>\n",
       "      <td>No info</td>\n",
       "    </tr>\n",
       "    <tr>\n",
       "      <th>2924</th>\n",
       "      <td>Jet Airways Business</td>\n",
       "      <td>79512</td>\n",
       "      <td>Business class</td>\n",
       "    </tr>\n",
       "    <tr>\n",
       "      <th>5372</th>\n",
       "      <td>Jet Airways Business</td>\n",
       "      <td>62427</td>\n",
       "      <td>Business class</td>\n",
       "    </tr>\n",
       "    <tr>\n",
       "      <th>5439</th>\n",
       "      <td>Jet Airways</td>\n",
       "      <td>54826</td>\n",
       "      <td>No info</td>\n",
       "    </tr>\n",
       "    <tr>\n",
       "      <th>9715</th>\n",
       "      <td>Jet Airways Business</td>\n",
       "      <td>52285</td>\n",
       "      <td>No info</td>\n",
       "    </tr>\n",
       "    <tr>\n",
       "      <th>10364</th>\n",
       "      <td>Jet Airways Business</td>\n",
       "      <td>57209</td>\n",
       "      <td>Business class</td>\n",
       "    </tr>\n",
       "  </tbody>\n",
       "</table>\n",
       "</div>"
      ],
      "text/plain": [
       "                    Airline  Price Additional_Info\n",
       "657    Jet Airways Business  52229         No info\n",
       "1478            Jet Airways  54826         No info\n",
       "2618            Jet Airways  54826         No info\n",
       "2924   Jet Airways Business  79512  Business class\n",
       "5372   Jet Airways Business  62427  Business class\n",
       "5439            Jet Airways  54826         No info\n",
       "9715   Jet Airways Business  52285         No info\n",
       "10364  Jet Airways Business  57209  Business class"
      ]
     },
     "execution_count": 27,
     "metadata": {},
     "output_type": "execute_result"
    }
   ],
   "source": [
    "Price_more_50k = df[df['Price'] > 50000]\n",
    "Flight_name = Price_more_50k[['Airline','Price','Additional_Info']]\n",
    "print(\"Interpretation :\",f\"There {Flight_name.shape[0]} flights are High price Flights.\")\n",
    "Flight_name"
   ]
  },
  {
   "cell_type": "code",
   "execution_count": 28,
   "id": "7dbba70f",
   "metadata": {},
   "outputs": [
    {
     "name": "stdout",
     "output_type": "stream",
     "text": [
      "Interpretation : There are only 3 among 4 Business class Flights which is high price Flight.\n"
     ]
    },
    {
     "data": {
      "text/html": [
       "<div>\n",
       "<style scoped>\n",
       "    .dataframe tbody tr th:only-of-type {\n",
       "        vertical-align: middle;\n",
       "    }\n",
       "\n",
       "    .dataframe tbody tr th {\n",
       "        vertical-align: top;\n",
       "    }\n",
       "\n",
       "    .dataframe thead th {\n",
       "        text-align: right;\n",
       "    }\n",
       "</style>\n",
       "<table border=\"1\" class=\"dataframe\">\n",
       "  <thead>\n",
       "    <tr style=\"text-align: right;\">\n",
       "      <th></th>\n",
       "      <th>Airline</th>\n",
       "      <th>Price</th>\n",
       "      <th>Additional_Info</th>\n",
       "    </tr>\n",
       "  </thead>\n",
       "  <tbody>\n",
       "    <tr>\n",
       "      <th>2924</th>\n",
       "      <td>Jet Airways Business</td>\n",
       "      <td>79512</td>\n",
       "      <td>Business class</td>\n",
       "    </tr>\n",
       "    <tr>\n",
       "      <th>5372</th>\n",
       "      <td>Jet Airways Business</td>\n",
       "      <td>62427</td>\n",
       "      <td>Business class</td>\n",
       "    </tr>\n",
       "    <tr>\n",
       "      <th>10364</th>\n",
       "      <td>Jet Airways Business</td>\n",
       "      <td>57209</td>\n",
       "      <td>Business class</td>\n",
       "    </tr>\n",
       "  </tbody>\n",
       "</table>\n",
       "</div>"
      ],
      "text/plain": [
       "                    Airline  Price Additional_Info\n",
       "2924   Jet Airways Business  79512  Business class\n",
       "5372   Jet Airways Business  62427  Business class\n",
       "10364  Jet Airways Business  57209  Business class"
      ]
     },
     "execution_count": 28,
     "metadata": {},
     "output_type": "execute_result"
    }
   ],
   "source": [
    "ab = Flight_name.loc[(Flight_name.Price > 50000) & (Flight_name.Additional_Info == \"Business class\"),:]\n",
    "print(\"Interpretation :\",f\"There are only {ab.shape[0]} among {Business_Class_flights.shape[0]} Business class Flights which is high price Flight.\")\n",
    "ab"
   ]
  },
  {
   "cell_type": "markdown",
   "id": "f08bf944",
   "metadata": {},
   "source": [
    "## Perform Encoder:"
   ]
  },
  {
   "cell_type": "code",
   "execution_count": 29,
   "id": "f816ce5a",
   "metadata": {},
   "outputs": [
    {
     "data": {
      "text/html": [
       "<div>\n",
       "<style scoped>\n",
       "    .dataframe tbody tr th:only-of-type {\n",
       "        vertical-align: middle;\n",
       "    }\n",
       "\n",
       "    .dataframe tbody tr th {\n",
       "        vertical-align: top;\n",
       "    }\n",
       "\n",
       "    .dataframe thead th {\n",
       "        text-align: right;\n",
       "    }\n",
       "</style>\n",
       "<table border=\"1\" class=\"dataframe\">\n",
       "  <thead>\n",
       "    <tr style=\"text-align: right;\">\n",
       "      <th></th>\n",
       "      <th>Airline</th>\n",
       "      <th>Source</th>\n",
       "      <th>Destination</th>\n",
       "      <th>Dep_Time</th>\n",
       "      <th>Arrival_Time</th>\n",
       "      <th>Total_Stops</th>\n",
       "      <th>Additional_Info</th>\n",
       "    </tr>\n",
       "  </thead>\n",
       "  <tbody>\n",
       "    <tr>\n",
       "      <th>0</th>\n",
       "      <td>IndiGo</td>\n",
       "      <td>Banglore</td>\n",
       "      <td>New Delhi</td>\n",
       "      <td>Night</td>\n",
       "      <td>None</td>\n",
       "      <td>non-stop</td>\n",
       "      <td>No info</td>\n",
       "    </tr>\n",
       "    <tr>\n",
       "      <th>1</th>\n",
       "      <td>Air India</td>\n",
       "      <td>Kolkata</td>\n",
       "      <td>Banglore</td>\n",
       "      <td>Early Morning</td>\n",
       "      <td>AfterNoon</td>\n",
       "      <td>2 stops</td>\n",
       "      <td>No info</td>\n",
       "    </tr>\n",
       "    <tr>\n",
       "      <th>2</th>\n",
       "      <td>Jet Airways</td>\n",
       "      <td>Delhi</td>\n",
       "      <td>Cochin</td>\n",
       "      <td>Morning</td>\n",
       "      <td>None</td>\n",
       "      <td>2 stops</td>\n",
       "      <td>No info</td>\n",
       "    </tr>\n",
       "    <tr>\n",
       "      <th>3</th>\n",
       "      <td>IndiGo</td>\n",
       "      <td>Kolkata</td>\n",
       "      <td>Banglore</td>\n",
       "      <td>Evening</td>\n",
       "      <td>Night</td>\n",
       "      <td>1 stop</td>\n",
       "      <td>No info</td>\n",
       "    </tr>\n",
       "    <tr>\n",
       "      <th>4</th>\n",
       "      <td>IndiGo</td>\n",
       "      <td>Banglore</td>\n",
       "      <td>New Delhi</td>\n",
       "      <td>AfterNoon</td>\n",
       "      <td>Night</td>\n",
       "      <td>1 stop</td>\n",
       "      <td>No info</td>\n",
       "    </tr>\n",
       "  </tbody>\n",
       "</table>\n",
       "</div>"
      ],
      "text/plain": [
       "       Airline    Source Destination       Dep_Time Arrival_Time Total_Stops  \\\n",
       "0       IndiGo  Banglore   New Delhi          Night         None    non-stop   \n",
       "1    Air India   Kolkata    Banglore  Early Morning    AfterNoon     2 stops   \n",
       "2  Jet Airways     Delhi      Cochin        Morning         None     2 stops   \n",
       "3       IndiGo   Kolkata    Banglore        Evening        Night      1 stop   \n",
       "4       IndiGo  Banglore   New Delhi      AfterNoon        Night      1 stop   \n",
       "\n",
       "  Additional_Info  \n",
       "0         No info  \n",
       "1         No info  \n",
       "2         No info  \n",
       "3         No info  \n",
       "4         No info  "
      ]
     },
     "execution_count": 29,
     "metadata": {},
     "output_type": "execute_result"
    }
   ],
   "source": [
    "num_df = df.select_dtypes(include=np.number)\n",
    "cat_df = df.select_dtypes(include=object)\n",
    "cat_df.head()"
   ]
  },
  {
   "cell_type": "code",
   "execution_count": 30,
   "id": "93cdbd00",
   "metadata": {},
   "outputs": [
    {
     "data": {
      "text/html": [
       "<div>\n",
       "<style scoped>\n",
       "    .dataframe tbody tr th:only-of-type {\n",
       "        vertical-align: middle;\n",
       "    }\n",
       "\n",
       "    .dataframe tbody tr th {\n",
       "        vertical-align: top;\n",
       "    }\n",
       "\n",
       "    .dataframe thead th {\n",
       "        text-align: right;\n",
       "    }\n",
       "</style>\n",
       "<table border=\"1\" class=\"dataframe\">\n",
       "  <thead>\n",
       "    <tr style=\"text-align: right;\">\n",
       "      <th></th>\n",
       "      <th>Airline</th>\n",
       "      <th>Source</th>\n",
       "      <th>Destination</th>\n",
       "      <th>Dep_Time</th>\n",
       "      <th>Arrival_Time</th>\n",
       "      <th>Total_Stops</th>\n",
       "      <th>Additional_Info</th>\n",
       "    </tr>\n",
       "  </thead>\n",
       "  <tbody>\n",
       "    <tr>\n",
       "      <th>0</th>\n",
       "      <td>3</td>\n",
       "      <td>0</td>\n",
       "      <td>5</td>\n",
       "      <td>4</td>\n",
       "      <td>5</td>\n",
       "      <td>4</td>\n",
       "      <td>8</td>\n",
       "    </tr>\n",
       "    <tr>\n",
       "      <th>1</th>\n",
       "      <td>1</td>\n",
       "      <td>3</td>\n",
       "      <td>0</td>\n",
       "      <td>1</td>\n",
       "      <td>0</td>\n",
       "      <td>1</td>\n",
       "      <td>8</td>\n",
       "    </tr>\n",
       "    <tr>\n",
       "      <th>2</th>\n",
       "      <td>4</td>\n",
       "      <td>2</td>\n",
       "      <td>1</td>\n",
       "      <td>3</td>\n",
       "      <td>5</td>\n",
       "      <td>1</td>\n",
       "      <td>8</td>\n",
       "    </tr>\n",
       "    <tr>\n",
       "      <th>3</th>\n",
       "      <td>3</td>\n",
       "      <td>3</td>\n",
       "      <td>0</td>\n",
       "      <td>2</td>\n",
       "      <td>4</td>\n",
       "      <td>0</td>\n",
       "      <td>8</td>\n",
       "    </tr>\n",
       "    <tr>\n",
       "      <th>4</th>\n",
       "      <td>3</td>\n",
       "      <td>0</td>\n",
       "      <td>5</td>\n",
       "      <td>0</td>\n",
       "      <td>4</td>\n",
       "      <td>0</td>\n",
       "      <td>8</td>\n",
       "    </tr>\n",
       "  </tbody>\n",
       "</table>\n",
       "</div>"
      ],
      "text/plain": [
       "   Airline  Source  Destination  Dep_Time  Arrival_Time  Total_Stops  \\\n",
       "0        3       0            5         4             5            4   \n",
       "1        1       3            0         1             0            1   \n",
       "2        4       2            1         3             5            1   \n",
       "3        3       3            0         2             4            0   \n",
       "4        3       0            5         0             4            0   \n",
       "\n",
       "   Additional_Info  \n",
       "0                8  \n",
       "1                8  \n",
       "2                8  \n",
       "3                8  \n",
       "4                8  "
      ]
     },
     "execution_count": 30,
     "metadata": {},
     "output_type": "execute_result"
    }
   ],
   "source": [
    "from sklearn.preprocessing import LabelEncoder\n",
    "\n",
    "cat_df = cat_df.apply(LabelEncoder().fit_transform)\n",
    "cat_df.head()"
   ]
  },
  {
   "cell_type": "code",
   "execution_count": 31,
   "id": "a66c413f",
   "metadata": {
    "scrolled": false
   },
   "outputs": [
    {
     "data": {
      "text/html": [
       "<div>\n",
       "<style scoped>\n",
       "    .dataframe tbody tr th:only-of-type {\n",
       "        vertical-align: middle;\n",
       "    }\n",
       "\n",
       "    .dataframe tbody tr th {\n",
       "        vertical-align: top;\n",
       "    }\n",
       "\n",
       "    .dataframe thead th {\n",
       "        text-align: right;\n",
       "    }\n",
       "</style>\n",
       "<table border=\"1\" class=\"dataframe\">\n",
       "  <thead>\n",
       "    <tr style=\"text-align: right;\">\n",
       "      <th></th>\n",
       "      <th>Airline</th>\n",
       "      <th>Source</th>\n",
       "      <th>Destination</th>\n",
       "      <th>Dep_Time</th>\n",
       "      <th>Arrival_Time</th>\n",
       "      <th>Total_Stops</th>\n",
       "      <th>Additional_Info</th>\n",
       "      <th>Price</th>\n",
       "      <th>Duration_min</th>\n",
       "      <th>Date</th>\n",
       "      <th>Month</th>\n",
       "      <th>year</th>\n",
       "    </tr>\n",
       "  </thead>\n",
       "  <tbody>\n",
       "    <tr>\n",
       "      <th>0</th>\n",
       "      <td>3</td>\n",
       "      <td>0</td>\n",
       "      <td>5</td>\n",
       "      <td>4</td>\n",
       "      <td>5</td>\n",
       "      <td>4</td>\n",
       "      <td>8</td>\n",
       "      <td>3897</td>\n",
       "      <td>170</td>\n",
       "      <td>24</td>\n",
       "      <td>3</td>\n",
       "      <td>2019</td>\n",
       "    </tr>\n",
       "    <tr>\n",
       "      <th>1</th>\n",
       "      <td>1</td>\n",
       "      <td>3</td>\n",
       "      <td>0</td>\n",
       "      <td>1</td>\n",
       "      <td>0</td>\n",
       "      <td>1</td>\n",
       "      <td>8</td>\n",
       "      <td>7662</td>\n",
       "      <td>445</td>\n",
       "      <td>1</td>\n",
       "      <td>5</td>\n",
       "      <td>2019</td>\n",
       "    </tr>\n",
       "    <tr>\n",
       "      <th>2</th>\n",
       "      <td>4</td>\n",
       "      <td>2</td>\n",
       "      <td>1</td>\n",
       "      <td>3</td>\n",
       "      <td>5</td>\n",
       "      <td>1</td>\n",
       "      <td>8</td>\n",
       "      <td>13882</td>\n",
       "      <td>1140</td>\n",
       "      <td>9</td>\n",
       "      <td>6</td>\n",
       "      <td>2019</td>\n",
       "    </tr>\n",
       "    <tr>\n",
       "      <th>3</th>\n",
       "      <td>3</td>\n",
       "      <td>3</td>\n",
       "      <td>0</td>\n",
       "      <td>2</td>\n",
       "      <td>4</td>\n",
       "      <td>0</td>\n",
       "      <td>8</td>\n",
       "      <td>6218</td>\n",
       "      <td>325</td>\n",
       "      <td>12</td>\n",
       "      <td>5</td>\n",
       "      <td>2019</td>\n",
       "    </tr>\n",
       "    <tr>\n",
       "      <th>4</th>\n",
       "      <td>3</td>\n",
       "      <td>0</td>\n",
       "      <td>5</td>\n",
       "      <td>0</td>\n",
       "      <td>4</td>\n",
       "      <td>0</td>\n",
       "      <td>8</td>\n",
       "      <td>13302</td>\n",
       "      <td>285</td>\n",
       "      <td>1</td>\n",
       "      <td>3</td>\n",
       "      <td>2019</td>\n",
       "    </tr>\n",
       "  </tbody>\n",
       "</table>\n",
       "</div>"
      ],
      "text/plain": [
       "   Airline  Source  Destination  Dep_Time  Arrival_Time  Total_Stops  \\\n",
       "0        3       0            5         4             5            4   \n",
       "1        1       3            0         1             0            1   \n",
       "2        4       2            1         3             5            1   \n",
       "3        3       3            0         2             4            0   \n",
       "4        3       0            5         0             4            0   \n",
       "\n",
       "   Additional_Info  Price  Duration_min  Date  Month  year  \n",
       "0                8   3897           170    24      3  2019  \n",
       "1                8   7662           445     1      5  2019  \n",
       "2                8  13882          1140     9      6  2019  \n",
       "3                8   6218           325    12      5  2019  \n",
       "4                8  13302           285     1      3  2019  "
      ]
     },
     "execution_count": 31,
     "metadata": {},
     "output_type": "execute_result"
    }
   ],
   "source": [
    "Final_df = pd.concat([cat_df,num_df],axis=1)\n",
    "Final_df.head()"
   ]
  },
  {
   "cell_type": "code",
   "execution_count": 32,
   "id": "9a7a3bb9",
   "metadata": {},
   "outputs": [],
   "source": [
    "Final_df['Price'] = np.sqrt(Final_df['Price'])"
   ]
  },
  {
   "cell_type": "code",
   "execution_count": 33,
   "id": "61fb8878",
   "metadata": {},
   "outputs": [],
   "source": [
    "from sklearn.model_selection import train_test_split\n",
    "x = Final_df.drop('Price',axis=1)\n",
    "y = Final_df['Price']\n",
    "\n",
    "X_train, X_test , Y_train , Y_test = train_test_split(x,y,test_size=0.3,random_state=123)"
   ]
  },
  {
   "cell_type": "markdown",
   "id": "25c8245d",
   "metadata": {},
   "source": [
    "### Model Building:"
   ]
  },
  {
   "cell_type": "code",
   "execution_count": 34,
   "id": "64bad603",
   "metadata": {},
   "outputs": [],
   "source": [
    "Algorithms = [[\"1. LinearRegression :\",LinearRegression()],\n",
    "             [\"2. Ridge :\",Ridge()],\n",
    "             [\"3. Lasso :\",Lasso()],\n",
    "             [\"4. DecisionTreeRegressor :\",DecisionTreeRegressor()],\n",
    "             [\"5. RandomForestRegressor :\",RandomForestRegressor()],\n",
    "             [\"6. KNN :\",KNeighborsRegressor()],\n",
    "             [\"7. GradientBoostingRegressor :\",GradientBoostingRegressor()],\n",
    "             [\"8. AdaBoostRegressor :\",AdaBoostRegressor()],\n",
    "             [\"9. XGBRegressor :\",XGBRegressor()]]"
   ]
  },
  {
   "cell_type": "code",
   "execution_count": 35,
   "id": "fd206c04",
   "metadata": {},
   "outputs": [],
   "source": [
    "R2_train_ = []\n",
    "rmse_train = []\n",
    "R2_test_ = []\n",
    "rmse_test = []\n",
    "\n",
    "\n",
    "for name , model in Algorithms:\n",
    "    model.fit(X_train,Y_train)\n",
    "    Train_pre = model.predict(X_train)\n",
    "    Test_pre = model.predict(X_test)\n",
    "    R2_train = round(r2_score(Y_train,Train_pre)*100,2)\n",
    "    R2_train_.append(R2_train)\n",
    "    RMSE_train = round(np.sqrt(mean_squared_error(Y_train,Train_pre)),2)\n",
    "    rmse_train.append(RMSE_train)\n",
    "    R2_test = round(r2_score(Y_test,Test_pre)*100,2)\n",
    "    R2_test_.append(R2_test)\n",
    "    RMSE_test = round(np.sqrt(mean_squared_error(Y_test,Test_pre)),2)\n",
    "    rmse_test.append(RMSE_test)"
   ]
  },
  {
   "cell_type": "code",
   "execution_count": 36,
   "id": "19b6ebe4",
   "metadata": {
    "scrolled": true
   },
   "outputs": [
    {
     "data": {
      "text/html": [
       "<style type=\"text/css\">\n",
       "#T_66db8_row0_col0, #T_66db8_row0_col1, #T_66db8_row0_col2, #T_66db8_row0_col3, #T_66db8_row1_col0, #T_66db8_row1_col1, #T_66db8_row1_col2, #T_66db8_row1_col3, #T_66db8_row2_col0, #T_66db8_row2_col1, #T_66db8_row2_col2, #T_66db8_row2_col3, #T_66db8_row3_col0, #T_66db8_row4_col0, #T_66db8_row4_col1, #T_66db8_row5_col1, #T_66db8_row5_col2, #T_66db8_row5_col3, #T_66db8_row7_col0, #T_66db8_row7_col1, #T_66db8_row7_col2, #T_66db8_row7_col3, #T_66db8_row8_col0, #T_66db8_row8_col1 {\n",
       "  background-color: orange;\n",
       "}\n",
       "#T_66db8_row3_col1, #T_66db8_row3_col2, #T_66db8_row3_col3, #T_66db8_row4_col2, #T_66db8_row4_col3, #T_66db8_row5_col0, #T_66db8_row6_col0, #T_66db8_row6_col1, #T_66db8_row6_col2, #T_66db8_row6_col3, #T_66db8_row8_col2, #T_66db8_row8_col3 {\n",
       "  background-color: green;\n",
       "}\n",
       "</style>\n",
       "<table id=\"T_66db8\">\n",
       "  <thead>\n",
       "    <tr>\n",
       "      <th class=\"blank level0\" >&nbsp;</th>\n",
       "      <th id=\"T_66db8_level0_col0\" class=\"col_heading level0 col0\" >R2_train_</th>\n",
       "      <th id=\"T_66db8_level0_col1\" class=\"col_heading level0 col1\" >R2_test_</th>\n",
       "      <th id=\"T_66db8_level0_col2\" class=\"col_heading level0 col2\" >rmse_train</th>\n",
       "      <th id=\"T_66db8_level0_col3\" class=\"col_heading level0 col3\" >rmse_test</th>\n",
       "    </tr>\n",
       "    <tr>\n",
       "      <th class=\"index_name level0\" >Algorithms</th>\n",
       "      <th class=\"blank col0\" >&nbsp;</th>\n",
       "      <th class=\"blank col1\" >&nbsp;</th>\n",
       "      <th class=\"blank col2\" >&nbsp;</th>\n",
       "      <th class=\"blank col3\" >&nbsp;</th>\n",
       "    </tr>\n",
       "  </thead>\n",
       "  <tbody>\n",
       "    <tr>\n",
       "      <th id=\"T_66db8_level0_row0\" class=\"row_heading level0 row0\" >LinearRegression</th>\n",
       "      <td id=\"T_66db8_row0_col0\" class=\"data row0 col0\" >49.070000</td>\n",
       "      <td id=\"T_66db8_row0_col1\" class=\"data row0 col1\" >51.790000</td>\n",
       "      <td id=\"T_66db8_row0_col2\" class=\"data row0 col2\" >16.780000</td>\n",
       "      <td id=\"T_66db8_row0_col3\" class=\"data row0 col3\" >15.710000</td>\n",
       "    </tr>\n",
       "    <tr>\n",
       "      <th id=\"T_66db8_level0_row1\" class=\"row_heading level0 row1\" >Ridge</th>\n",
       "      <td id=\"T_66db8_row1_col0\" class=\"data row1 col0\" >49.070000</td>\n",
       "      <td id=\"T_66db8_row1_col1\" class=\"data row1 col1\" >51.790000</td>\n",
       "      <td id=\"T_66db8_row1_col2\" class=\"data row1 col2\" >16.780000</td>\n",
       "      <td id=\"T_66db8_row1_col3\" class=\"data row1 col3\" >15.710000</td>\n",
       "    </tr>\n",
       "    <tr>\n",
       "      <th id=\"T_66db8_level0_row2\" class=\"row_heading level0 row2\" >Lasso</th>\n",
       "      <td id=\"T_66db8_row2_col0\" class=\"data row2 col0\" >48.620000</td>\n",
       "      <td id=\"T_66db8_row2_col1\" class=\"data row2 col1\" >51.580000</td>\n",
       "      <td id=\"T_66db8_row2_col2\" class=\"data row2 col2\" >16.860000</td>\n",
       "      <td id=\"T_66db8_row2_col3\" class=\"data row2 col3\" >15.750000</td>\n",
       "    </tr>\n",
       "    <tr>\n",
       "      <th id=\"T_66db8_level0_row3\" class=\"row_heading level0 row3\" >DecisionTree</th>\n",
       "      <td id=\"T_66db8_row3_col0\" class=\"data row3 col0\" >99.550000</td>\n",
       "      <td id=\"T_66db8_row3_col1\" class=\"data row3 col1\" >85.470000</td>\n",
       "      <td id=\"T_66db8_row3_col2\" class=\"data row3 col2\" >1.580000</td>\n",
       "      <td id=\"T_66db8_row3_col3\" class=\"data row3 col3\" >8.630000</td>\n",
       "    </tr>\n",
       "    <tr>\n",
       "      <th id=\"T_66db8_level0_row4\" class=\"row_heading level0 row4\" >RandomForest</th>\n",
       "      <td id=\"T_66db8_row4_col0\" class=\"data row4 col0\" >98.290000</td>\n",
       "      <td id=\"T_66db8_row4_col1\" class=\"data row4 col1\" >91.520000</td>\n",
       "      <td id=\"T_66db8_row4_col2\" class=\"data row4 col2\" >3.070000</td>\n",
       "      <td id=\"T_66db8_row4_col3\" class=\"data row4 col3\" >6.590000</td>\n",
       "    </tr>\n",
       "    <tr>\n",
       "      <th id=\"T_66db8_level0_row5\" class=\"row_heading level0 row5\" >KNN</th>\n",
       "      <td id=\"T_66db8_row5_col0\" class=\"data row5 col0\" >76.750000</td>\n",
       "      <td id=\"T_66db8_row5_col1\" class=\"data row5 col1\" >65.660000</td>\n",
       "      <td id=\"T_66db8_row5_col2\" class=\"data row5 col2\" >11.340000</td>\n",
       "      <td id=\"T_66db8_row5_col3\" class=\"data row5 col3\" >13.260000</td>\n",
       "    </tr>\n",
       "    <tr>\n",
       "      <th id=\"T_66db8_level0_row6\" class=\"row_heading level0 row6\" >GBoosting</th>\n",
       "      <td id=\"T_66db8_row6_col0\" class=\"data row6 col0\" >85.430000</td>\n",
       "      <td id=\"T_66db8_row6_col1\" class=\"data row6 col1\" >84.910000</td>\n",
       "      <td id=\"T_66db8_row6_col2\" class=\"data row6 col2\" >8.980000</td>\n",
       "      <td id=\"T_66db8_row6_col3\" class=\"data row6 col3\" >8.790000</td>\n",
       "    </tr>\n",
       "    <tr>\n",
       "      <th id=\"T_66db8_level0_row7\" class=\"row_heading level0 row7\" >AdaBoost</th>\n",
       "      <td id=\"T_66db8_row7_col0\" class=\"data row7 col0\" >57.680000</td>\n",
       "      <td id=\"T_66db8_row7_col1\" class=\"data row7 col1\" >55.380000</td>\n",
       "      <td id=\"T_66db8_row7_col2\" class=\"data row7 col2\" >15.300000</td>\n",
       "      <td id=\"T_66db8_row7_col3\" class=\"data row7 col3\" >15.120000</td>\n",
       "    </tr>\n",
       "    <tr>\n",
       "      <th id=\"T_66db8_level0_row8\" class=\"row_heading level0 row8\" >XGB</th>\n",
       "      <td id=\"T_66db8_row8_col0\" class=\"data row8 col0\" >96.180000</td>\n",
       "      <td id=\"T_66db8_row8_col1\" class=\"data row8 col1\" >92.330000</td>\n",
       "      <td id=\"T_66db8_row8_col2\" class=\"data row8 col2\" >4.590000</td>\n",
       "      <td id=\"T_66db8_row8_col3\" class=\"data row8 col3\" >6.270000</td>\n",
       "    </tr>\n",
       "  </tbody>\n",
       "</table>\n"
      ],
      "text/plain": [
       "<pandas.io.formats.style.Styler at 0x2489575e050>"
      ]
     },
     "execution_count": 36,
     "metadata": {},
     "output_type": "execute_result"
    }
   ],
   "source": [
    "Algorithms = [\"LinearRegression\",\"Ridge\",\"Lasso\",\"DecisionTree\",\"RandomForest\",\"KNN\",\"GBoosting\",\"AdaBoost\",\"XGB\"]\n",
    "ab = {\"Algorithms\":Algorithms,\n",
    "      \"R2_train_\":R2_train_,\n",
    "      \"R2_test_\":R2_test_,\n",
    "      \"rmse_train\":rmse_train,\n",
    "      \"rmse_test\":rmse_test}\n",
    "ab = pd.DataFrame(ab)\n",
    "ab = ab.set_index('Algorithms')\n",
    "cd = ab.style.applymap(lambda x: 'background-color: green' if ( (x < 90 and x > 70) or x < 10) else \"background-color: orange\" )\n",
    "cd"
   ]
  },
  {
   "cell_type": "markdown",
   "id": "7f61771b",
   "metadata": {},
   "source": [
    "### Interpretation:"
   ]
  },
  {
   "cell_type": "code",
   "execution_count": 37,
   "id": "eeccb2ff",
   "metadata": {},
   "outputs": [
    {
     "data": {
      "text/plain": [
       "Text(0.5, 0, 'Test_RMSE_Score')"
      ]
     },
     "execution_count": 37,
     "metadata": {},
     "output_type": "execute_result"
    },
    {
     "data": {
      "image/png": "[encoded data removed]",
      "text/plain": [
       "<Figure size 1500x500 with 1 Axes>"
      ]
     },
     "metadata": {},
     "output_type": "display_data"
    },
    {
     "data": {
      "image/png": "[encoded data removed]",
      "text/plain": [
       "<Figure size 1500x500 with 1 Axes>"
      ]
     },
     "metadata": {},
     "output_type": "display_data"
    },
    {
     "data": {
      "image/png": "[encoded data removed]",
      "text/plain": [
       "<Figure size 1500x500 with 1 Axes>"
      ]
     },
     "metadata": {},
     "output_type": "display_data"
    },
    {
     "data": {
      "image/png": "[encoded data removed]",
      "text/plain": [
       "<Figure size 1500x500 with 1 Axes>"
      ]
     },
     "metadata": {},
     "output_type": "display_data"
    }
   ],
   "source": [
    "plt.figure(figsize=(15,5))\n",
    "plots = sns.barplot(x =Algorithms,y =ab['R2_train_'] ,linewidth = 1.5, edgecolor='0.1')\n",
    "for bar in plots.patches:\n",
    "    plots.annotate(format(bar.get_height(),'.2f'),\n",
    "                  (bar.get_x() + bar.get_width()/2,\n",
    "                  bar.get_height()), ha = 'center', va='center',\n",
    "                  size = 10, xytext = (0,5),\n",
    "                  textcoords = 'offset points')\n",
    "plt.xlabel(\"Train_R2_Score\")\n",
    "\n",
    "plt.figure(figsize=(15,5))\n",
    "plots = sns.barplot(x =Algorithms,y = ab['rmse_train'],linewidth = 1.5, edgecolor='0.1')\n",
    "for bar in plots.patches:\n",
    "    plots.annotate(format(bar.get_height(),'.2f'),\n",
    "                  (bar.get_x() + bar.get_width()/2,\n",
    "                  bar.get_height()), ha = 'center', va='center',\n",
    "                  size = 10, xytext = (0,5),\n",
    "                  textcoords = 'offset points')\n",
    "plt.xlabel(\"Train_RMSE_Score\")\n",
    "\n",
    "plt.figure(figsize=(15,5))\n",
    "plots = sns.barplot(x =Algorithms,y = ab['R2_test_'],linewidth = 1.5, edgecolor='0.1')\n",
    "for bar in plots.patches:\n",
    "    plots.annotate(format(bar.get_height(),'.2f'),\n",
    "                  (bar.get_x() + bar.get_width()/2,\n",
    "                  bar.get_height()), ha = 'center', va='center',\n",
    "                  size = 10, xytext = (0,5),\n",
    "                  textcoords = 'offset points')\n",
    "plt.xlabel(\"Test_R2_Score\")\n",
    "\n",
    "\n",
    "plt.figure(figsize=(15,5))\n",
    "plots = sns.barplot(x =Algorithms,y = ab['rmse_test'],linewidth = 1.5, edgecolor='0.1')\n",
    "for bar in plots.patches:\n",
    "    plots.annotate(format(bar.get_height(),'.2f'),\n",
    "                  (bar.get_x() + bar.get_width()/2,\n",
    "                  bar.get_height()), ha = 'center', va='center',\n",
    "                  size = 10, xytext = (0,5),\n",
    "                  textcoords = 'offset points')\n",
    "plt.xlabel(\"Test_RMSE_Score\")"
   ]
  },
  {
   "cell_type": "markdown",
   "id": "e75ca437",
   "metadata": {},
   "source": [
    "#### Interpretation:\n",
    "1. R2 Score on Train Dataset by Linear Regression ,Lasso,Ridge & Adaboosting is less than 70% which means models prone toward Underfitting.\n",
    "2. R2 Score on Train  & test Dataset by Decision Tree, Random Forest & XGBoosting is more than  90% which means models prone toward overfitting.\n",
    "3. R2 Score on Train Dataset by KNN is 76% and on test dataset score is 64% which means Model is Overfitting.\n",
    "4. R2 score of Gboosting is on train is 86 % & on test is 84 % which means model is good-fit & also log function (RMSE) is less than 10.\n",
    "\n",
    "so, Thats why we do Prunning Techniqe on DT,RF,XGB & GB to evaluate model."
   ]
  },
  {
   "cell_type": "code",
   "execution_count": null,
   "id": "ce6a6f91",
   "metadata": {},
   "outputs": [],
   "source": []
  },
  {
   "cell_type": "code",
   "execution_count": null,
   "id": "07a17a6a",
   "metadata": {},
   "outputs": [],
   "source": []
  },
  {
   "cell_type": "code",
   "execution_count": null,
   "id": "7485f6f6",
   "metadata": {},
   "outputs": [],
   "source": []
  },
  {
   "cell_type": "code",
   "execution_count": 38,
   "id": "a0430f68",
   "metadata": {},
   "outputs": [
    {
     "name": "stdout",
     "output_type": "stream",
     "text": [
      "Fitting 10 folds for each of 27 candidates, totalling 270 fits\n"
     ]
    },
    {
     "data": {
      "text/html": [
       "<style>#sk-container-id-1 {color: black;}#sk-container-id-1 pre{padding: 0;}#sk-container-id-1 div.sk-toggleable {background-color: white;}#sk-container-id-1 label.sk-toggleable__label {cursor: pointer;display: block;width: 100%;margin-bottom: 0;padding: 0.3em;box-sizing: border-box;text-align: center;}#sk-container-id-1 label.sk-toggleable__label-arrow:before {content: \"▸\";float: left;margin-right: 0.25em;color: #696969;}#sk-container-id-1 label.sk-toggleable__label-arrow:hover:before {color: black;}#sk-container-id-1 div.sk-estimator:hover label.sk-toggleable__label-arrow:before {color: black;}#sk-container-id-1 div.sk-toggleable__content {max-height: 0;max-width: 0;overflow: hidden;text-align: left;background-color: #f0f8ff;}#sk-container-id-1 div.sk-toggleable__content pre {margin: 0.2em;color: black;border-radius: 0.25em;background-color: #f0f8ff;}#sk-container-id-1 input.sk-toggleable__control:checked~div.sk-toggleable__content {max-height: 200px;max-width: 100%;overflow: auto;}#sk-container-id-1 input.sk-toggleable__control:checked~label.sk-toggleable__label-arrow:before {content: \"▾\";}#sk-container-id-1 div.sk-estimator input.sk-toggleable__control:checked~label.sk-toggleable__label {background-color: #d4ebff;}#sk-container-id-1 div.sk-label input.sk-toggleable__control:checked~label.sk-toggleable__label {background-color: #d4ebff;}#sk-container-id-1 input.sk-hidden--visually {border: 0;clip: rect(1px 1px 1px 1px);clip: rect(1px, 1px, 1px, 1px);height: 1px;margin: -1px;overflow: hidden;padding: 0;position: absolute;width: 1px;}#sk-container-id-1 div.sk-estimator {font-family: monospace;background-color: #f0f8ff;border: 1px dotted black;border-radius: 0.25em;box-sizing: border-box;margin-bottom: 0.5em;}#sk-container-id-1 div.sk-estimator:hover {background-color: #d4ebff;}#sk-container-id-1 div.sk-parallel-item::after {content: \"\";width: 100%;border-bottom: 1px solid gray;flex-grow: 1;}#sk-container-id-1 div.sk-label:hover label.sk-toggleable__label {background-color: #d4ebff;}#sk-container-id-1 div.sk-serial::before {content: \"\";position: absolute;border-left: 1px solid gray;box-sizing: border-box;top: 0;bottom: 0;left: 50%;z-index: 0;}#sk-container-id-1 div.sk-serial {display: flex;flex-direction: column;align-items: center;background-color: white;padding-right: 0.2em;padding-left: 0.2em;position: relative;}#sk-container-id-1 div.sk-item {position: relative;z-index: 1;}#sk-container-id-1 div.sk-parallel {display: flex;align-items: stretch;justify-content: center;background-color: white;position: relative;}#sk-container-id-1 div.sk-item::before, #sk-container-id-1 div.sk-parallel-item::before {content: \"\";position: absolute;border-left: 1px solid gray;box-sizing: border-box;top: 0;bottom: 0;left: 50%;z-index: -1;}#sk-container-id-1 div.sk-parallel-item {display: flex;flex-direction: column;z-index: 1;position: relative;background-color: white;}#sk-container-id-1 div.sk-parallel-item:first-child::after {align-self: flex-end;width: 50%;}#sk-container-id-1 div.sk-parallel-item:last-child::after {align-self: flex-start;width: 50%;}#sk-container-id-1 div.sk-parallel-item:only-child::after {width: 0;}#sk-container-id-1 div.sk-dashed-wrapped {border: 1px dashed gray;margin: 0 0.4em 0.5em 0.4em;box-sizing: border-box;padding-bottom: 0.4em;background-color: white;}#sk-container-id-1 div.sk-label label {font-family: monospace;font-weight: bold;display: inline-block;line-height: 1.2em;}#sk-container-id-1 div.sk-label-container {text-align: center;}#sk-container-id-1 div.sk-container {/* jupyter's `normalize.less` sets `[hidden] { display: none; }` but bootstrap.min.css set `[hidden] { display: none !important; }` so we also need the `!important` here to be able to override the default hidden behavior on the sphinx rendered scikit-learn.org. See: https://github.com/scikit-learn/scikit-learn/issues/21755 */display: inline-block !important;position: relative;}#sk-container-id-1 div.sk-text-repr-fallback {display: none;}</style><div id=\"sk-container-id-1\" class=\"sk-top-container\"><div class=\"sk-text-repr-fallback\"><pre>GridSearchCV(cv=10, estimator=DecisionTreeRegressor(),\n",
       "             param_grid={&#x27;max_depth&#x27;: [3, 4, 5],\n",
       "                         &#x27;min_samples_leaf&#x27;: [50, 60, 70],\n",
       "                         &#x27;min_samples_split&#x27;: [100, 110, 120]},\n",
       "             verbose=1)</pre><b>In a Jupyter environment, please rerun this cell to show the HTML representation or trust the notebook. <br />On GitHub, the HTML representation is unable to render, please try loading this page with nbviewer.org.</b></div><div class=\"sk-container\" hidden><div class=\"sk-item sk-dashed-wrapped\"><div class=\"sk-label-container\"><div class=\"sk-label sk-toggleable\"><input class=\"sk-toggleable__control sk-hidden--visually\" id=\"sk-estimator-id-1\" type=\"checkbox\" ><label for=\"sk-estimator-id-1\" class=\"sk-toggleable__label sk-toggleable__label-arrow\">GridSearchCV</label><div class=\"sk-toggleable__content\"><pre>GridSearchCV(cv=10, estimator=DecisionTreeRegressor(),\n",
       "             param_grid={&#x27;max_depth&#x27;: [3, 4, 5],\n",
       "                         &#x27;min_samples_leaf&#x27;: [50, 60, 70],\n",
       "                         &#x27;min_samples_split&#x27;: [100, 110, 120]},\n",
       "             verbose=1)</pre></div></div></div><div class=\"sk-parallel\"><div class=\"sk-parallel-item\"><div class=\"sk-item\"><div class=\"sk-label-container\"><div class=\"sk-label sk-toggleable\"><input class=\"sk-toggleable__control sk-hidden--visually\" id=\"sk-estimator-id-2\" type=\"checkbox\" ><label for=\"sk-estimator-id-2\" class=\"sk-toggleable__label sk-toggleable__label-arrow\">estimator: DecisionTreeRegressor</label><div class=\"sk-toggleable__content\"><pre>DecisionTreeRegressor()</pre></div></div></div><div class=\"sk-serial\"><div class=\"sk-item\"><div class=\"sk-estimator sk-toggleable\"><input class=\"sk-toggleable__control sk-hidden--visually\" id=\"sk-estimator-id-3\" type=\"checkbox\" ><label for=\"sk-estimator-id-3\" class=\"sk-toggleable__label sk-toggleable__label-arrow\">DecisionTreeRegressor</label><div class=\"sk-toggleable__content\"><pre>DecisionTreeRegressor()</pre></div></div></div></div></div></div></div></div></div></div>"
      ],
      "text/plain": [
       "GridSearchCV(cv=10, estimator=DecisionTreeRegressor(),\n",
       "             param_grid={'max_depth': [3, 4, 5],\n",
       "                         'min_samples_leaf': [50, 60, 70],\n",
       "                         'min_samples_split': [100, 110, 120]},\n",
       "             verbose=1)"
      ]
     },
     "execution_count": 38,
     "metadata": {},
     "output_type": "execute_result"
    }
   ],
   "source": [
    "## DT :\n",
    "params = {\"max_depth\":[3,4,5],\n",
    "         \"min_samples_split\":[100,110,120],\n",
    "         \"min_samples_leaf\":[50,60,70]}\n",
    "\n",
    "from sklearn.model_selection import GridSearchCV\n",
    "\n",
    "gridcv = GridSearchCV(DecisionTreeRegressor(),\n",
    "                     params,\n",
    "                     verbose = 1,\n",
    "                     cv = 10)\n",
    "gridcv.fit(X_train,Y_train)"
   ]
  },
  {
   "cell_type": "code",
   "execution_count": 39,
   "id": "57f4daef",
   "metadata": {},
   "outputs": [
    {
     "data": {
      "text/plain": [
       "{'max_depth': 5, 'min_samples_leaf': 50, 'min_samples_split': 100}"
      ]
     },
     "execution_count": 39,
     "metadata": {},
     "output_type": "execute_result"
    }
   ],
   "source": [
    "DT = gridcv.best_params_\n",
    "DT"
   ]
  },
  {
   "cell_type": "code",
   "execution_count": 40,
   "id": "0496eda4",
   "metadata": {},
   "outputs": [
    {
     "name": "stdout",
     "output_type": "stream",
     "text": [
      "Fitting 10 folds for each of 54 candidates, totalling 540 fits\n"
     ]
    },
    {
     "data": {
      "text/html": [
       "<style>#sk-container-id-2 {color: black;}#sk-container-id-2 pre{padding: 0;}#sk-container-id-2 div.sk-toggleable {background-color: white;}#sk-container-id-2 label.sk-toggleable__label {cursor: pointer;display: block;width: 100%;margin-bottom: 0;padding: 0.3em;box-sizing: border-box;text-align: center;}#sk-container-id-2 label.sk-toggleable__label-arrow:before {content: \"▸\";float: left;margin-right: 0.25em;color: #696969;}#sk-container-id-2 label.sk-toggleable__label-arrow:hover:before {color: black;}#sk-container-id-2 div.sk-estimator:hover label.sk-toggleable__label-arrow:before {color: black;}#sk-container-id-2 div.sk-toggleable__content {max-height: 0;max-width: 0;overflow: hidden;text-align: left;background-color: #f0f8ff;}#sk-container-id-2 div.sk-toggleable__content pre {margin: 0.2em;color: black;border-radius: 0.25em;background-color: #f0f8ff;}#sk-container-id-2 input.sk-toggleable__control:checked~div.sk-toggleable__content {max-height: 200px;max-width: 100%;overflow: auto;}#sk-container-id-2 input.sk-toggleable__control:checked~label.sk-toggleable__label-arrow:before {content: \"▾\";}#sk-container-id-2 div.sk-estimator input.sk-toggleable__control:checked~label.sk-toggleable__label {background-color: #d4ebff;}#sk-container-id-2 div.sk-label input.sk-toggleable__control:checked~label.sk-toggleable__label {background-color: #d4ebff;}#sk-container-id-2 input.sk-hidden--visually {border: 0;clip: rect(1px 1px 1px 1px);clip: rect(1px, 1px, 1px, 1px);height: 1px;margin: -1px;overflow: hidden;padding: 0;position: absolute;width: 1px;}#sk-container-id-2 div.sk-estimator {font-family: monospace;background-color: #f0f8ff;border: 1px dotted black;border-radius: 0.25em;box-sizing: border-box;margin-bottom: 0.5em;}#sk-container-id-2 div.sk-estimator:hover {background-color: #d4ebff;}#sk-container-id-2 div.sk-parallel-item::after {content: \"\";width: 100%;border-bottom: 1px solid gray;flex-grow: 1;}#sk-container-id-2 div.sk-label:hover label.sk-toggleable__label {background-color: #d4ebff;}#sk-container-id-2 div.sk-serial::before {content: \"\";position: absolute;border-left: 1px solid gray;box-sizing: border-box;top: 0;bottom: 0;left: 50%;z-index: 0;}#sk-container-id-2 div.sk-serial {display: flex;flex-direction: column;align-items: center;background-color: white;padding-right: 0.2em;padding-left: 0.2em;position: relative;}#sk-container-id-2 div.sk-item {position: relative;z-index: 1;}#sk-container-id-2 div.sk-parallel {display: flex;align-items: stretch;justify-content: center;background-color: white;position: relative;}#sk-container-id-2 div.sk-item::before, #sk-container-id-2 div.sk-parallel-item::before {content: \"\";position: absolute;border-left: 1px solid gray;box-sizing: border-box;top: 0;bottom: 0;left: 50%;z-index: -1;}#sk-container-id-2 div.sk-parallel-item {display: flex;flex-direction: column;z-index: 1;position: relative;background-color: white;}#sk-container-id-2 div.sk-parallel-item:first-child::after {align-self: flex-end;width: 50%;}#sk-container-id-2 div.sk-parallel-item:last-child::after {align-self: flex-start;width: 50%;}#sk-container-id-2 div.sk-parallel-item:only-child::after {width: 0;}#sk-container-id-2 div.sk-dashed-wrapped {border: 1px dashed gray;margin: 0 0.4em 0.5em 0.4em;box-sizing: border-box;padding-bottom: 0.4em;background-color: white;}#sk-container-id-2 div.sk-label label {font-family: monospace;font-weight: bold;display: inline-block;line-height: 1.2em;}#sk-container-id-2 div.sk-label-container {text-align: center;}#sk-container-id-2 div.sk-container {/* jupyter's `normalize.less` sets `[hidden] { display: none; }` but bootstrap.min.css set `[hidden] { display: none !important; }` so we also need the `!important` here to be able to override the default hidden behavior on the sphinx rendered scikit-learn.org. See: https://github.com/scikit-learn/scikit-learn/issues/21755 */display: inline-block !important;position: relative;}#sk-container-id-2 div.sk-text-repr-fallback {display: none;}</style><div id=\"sk-container-id-2\" class=\"sk-top-container\"><div class=\"sk-text-repr-fallback\"><pre>GridSearchCV(cv=10, estimator=RandomForestRegressor(),\n",
       "             param_grid={&#x27;max_depth&#x27;: [3, 4, 5],\n",
       "                         &#x27;min_samples_leaf&#x27;: [50, 60, 70],\n",
       "                         &#x27;min_samples_split&#x27;: [100, 110, 120],\n",
       "                         &#x27;n_estimators&#x27;: [25, 50]},\n",
       "             verbose=1)</pre><b>In a Jupyter environment, please rerun this cell to show the HTML representation or trust the notebook. <br />On GitHub, the HTML representation is unable to render, please try loading this page with nbviewer.org.</b></div><div class=\"sk-container\" hidden><div class=\"sk-item sk-dashed-wrapped\"><div class=\"sk-label-container\"><div class=\"sk-label sk-toggleable\"><input class=\"sk-toggleable__control sk-hidden--visually\" id=\"sk-estimator-id-4\" type=\"checkbox\" ><label for=\"sk-estimator-id-4\" class=\"sk-toggleable__label sk-toggleable__label-arrow\">GridSearchCV</label><div class=\"sk-toggleable__content\"><pre>GridSearchCV(cv=10, estimator=RandomForestRegressor(),\n",
       "             param_grid={&#x27;max_depth&#x27;: [3, 4, 5],\n",
       "                         &#x27;min_samples_leaf&#x27;: [50, 60, 70],\n",
       "                         &#x27;min_samples_split&#x27;: [100, 110, 120],\n",
       "                         &#x27;n_estimators&#x27;: [25, 50]},\n",
       "             verbose=1)</pre></div></div></div><div class=\"sk-parallel\"><div class=\"sk-parallel-item\"><div class=\"sk-item\"><div class=\"sk-label-container\"><div class=\"sk-label sk-toggleable\"><input class=\"sk-toggleable__control sk-hidden--visually\" id=\"sk-estimator-id-5\" type=\"checkbox\" ><label for=\"sk-estimator-id-5\" class=\"sk-toggleable__label sk-toggleable__label-arrow\">estimator: RandomForestRegressor</label><div class=\"sk-toggleable__content\"><pre>RandomForestRegressor()</pre></div></div></div><div class=\"sk-serial\"><div class=\"sk-item\"><div class=\"sk-estimator sk-toggleable\"><input class=\"sk-toggleable__control sk-hidden--visually\" id=\"sk-estimator-id-6\" type=\"checkbox\" ><label for=\"sk-estimator-id-6\" class=\"sk-toggleable__label sk-toggleable__label-arrow\">RandomForestRegressor</label><div class=\"sk-toggleable__content\"><pre>RandomForestRegressor()</pre></div></div></div></div></div></div></div></div></div></div>"
      ],
      "text/plain": [
       "GridSearchCV(cv=10, estimator=RandomForestRegressor(),\n",
       "             param_grid={'max_depth': [3, 4, 5],\n",
       "                         'min_samples_leaf': [50, 60, 70],\n",
       "                         'min_samples_split': [100, 110, 120],\n",
       "                         'n_estimators': [25, 50]},\n",
       "             verbose=1)"
      ]
     },
     "execution_count": 40,
     "metadata": {},
     "output_type": "execute_result"
    }
   ],
   "source": [
    "## RF :\n",
    "params = {\"max_depth\":[3,4,5],\n",
    "         \"min_samples_split\":[100,110,120],\n",
    "         \"min_samples_leaf\":[50,60,70],\n",
    "         'n_estimators':[25,50]}\n",
    "\n",
    "from sklearn.model_selection import GridSearchCV\n",
    "\n",
    "gridcv = GridSearchCV(RandomForestRegressor(),\n",
    "                     params,\n",
    "                     verbose = 1,\n",
    "                     cv = 10)\n",
    "gridcv.fit(X_train,Y_train)\n"
   ]
  },
  {
   "cell_type": "code",
   "execution_count": 41,
   "id": "51781c0d",
   "metadata": {},
   "outputs": [
    {
     "data": {
      "text/plain": [
       "{'max_depth': 5,\n",
       " 'min_samples_leaf': 50,\n",
       " 'min_samples_split': 100,\n",
       " 'n_estimators': 50}"
      ]
     },
     "execution_count": 41,
     "metadata": {},
     "output_type": "execute_result"
    }
   ],
   "source": [
    "RF = gridcv.best_params_\n",
    "RF"
   ]
  },
  {
   "cell_type": "code",
   "execution_count": 42,
   "id": "98833325",
   "metadata": {},
   "outputs": [
    {
     "name": "stdout",
     "output_type": "stream",
     "text": [
      "Fitting 10 folds for each of 162 candidates, totalling 1620 fits\n"
     ]
    },
    {
     "data": {
      "text/html": [
       "<style>#sk-container-id-3 {color: black;}#sk-container-id-3 pre{padding: 0;}#sk-container-id-3 div.sk-toggleable {background-color: white;}#sk-container-id-3 label.sk-toggleable__label {cursor: pointer;display: block;width: 100%;margin-bottom: 0;padding: 0.3em;box-sizing: border-box;text-align: center;}#sk-container-id-3 label.sk-toggleable__label-arrow:before {content: \"▸\";float: left;margin-right: 0.25em;color: #696969;}#sk-container-id-3 label.sk-toggleable__label-arrow:hover:before {color: black;}#sk-container-id-3 div.sk-estimator:hover label.sk-toggleable__label-arrow:before {color: black;}#sk-container-id-3 div.sk-toggleable__content {max-height: 0;max-width: 0;overflow: hidden;text-align: left;background-color: #f0f8ff;}#sk-container-id-3 div.sk-toggleable__content pre {margin: 0.2em;color: black;border-radius: 0.25em;background-color: #f0f8ff;}#sk-container-id-3 input.sk-toggleable__control:checked~div.sk-toggleable__content {max-height: 200px;max-width: 100%;overflow: auto;}#sk-container-id-3 input.sk-toggleable__control:checked~label.sk-toggleable__label-arrow:before {content: \"▾\";}#sk-container-id-3 div.sk-estimator input.sk-toggleable__control:checked~label.sk-toggleable__label {background-color: #d4ebff;}#sk-container-id-3 div.sk-label input.sk-toggleable__control:checked~label.sk-toggleable__label {background-color: #d4ebff;}#sk-container-id-3 input.sk-hidden--visually {border: 0;clip: rect(1px 1px 1px 1px);clip: rect(1px, 1px, 1px, 1px);height: 1px;margin: -1px;overflow: hidden;padding: 0;position: absolute;width: 1px;}#sk-container-id-3 div.sk-estimator {font-family: monospace;background-color: #f0f8ff;border: 1px dotted black;border-radius: 0.25em;box-sizing: border-box;margin-bottom: 0.5em;}#sk-container-id-3 div.sk-estimator:hover {background-color: #d4ebff;}#sk-container-id-3 div.sk-parallel-item::after {content: \"\";width: 100%;border-bottom: 1px solid gray;flex-grow: 1;}#sk-container-id-3 div.sk-label:hover label.sk-toggleable__label {background-color: #d4ebff;}#sk-container-id-3 div.sk-serial::before {content: \"\";position: absolute;border-left: 1px solid gray;box-sizing: border-box;top: 0;bottom: 0;left: 50%;z-index: 0;}#sk-container-id-3 div.sk-serial {display: flex;flex-direction: column;align-items: center;background-color: white;padding-right: 0.2em;padding-left: 0.2em;position: relative;}#sk-container-id-3 div.sk-item {position: relative;z-index: 1;}#sk-container-id-3 div.sk-parallel {display: flex;align-items: stretch;justify-content: center;background-color: white;position: relative;}#sk-container-id-3 div.sk-item::before, #sk-container-id-3 div.sk-parallel-item::before {content: \"\";position: absolute;border-left: 1px solid gray;box-sizing: border-box;top: 0;bottom: 0;left: 50%;z-index: -1;}#sk-container-id-3 div.sk-parallel-item {display: flex;flex-direction: column;z-index: 1;position: relative;background-color: white;}#sk-container-id-3 div.sk-parallel-item:first-child::after {align-self: flex-end;width: 50%;}#sk-container-id-3 div.sk-parallel-item:last-child::after {align-self: flex-start;width: 50%;}#sk-container-id-3 div.sk-parallel-item:only-child::after {width: 0;}#sk-container-id-3 div.sk-dashed-wrapped {border: 1px dashed gray;margin: 0 0.4em 0.5em 0.4em;box-sizing: border-box;padding-bottom: 0.4em;background-color: white;}#sk-container-id-3 div.sk-label label {font-family: monospace;font-weight: bold;display: inline-block;line-height: 1.2em;}#sk-container-id-3 div.sk-label-container {text-align: center;}#sk-container-id-3 div.sk-container {/* jupyter's `normalize.less` sets `[hidden] { display: none; }` but bootstrap.min.css set `[hidden] { display: none !important; }` so we also need the `!important` here to be able to override the default hidden behavior on the sphinx rendered scikit-learn.org. See: https://github.com/scikit-learn/scikit-learn/issues/21755 */display: inline-block !important;position: relative;}#sk-container-id-3 div.sk-text-repr-fallback {display: none;}</style><div id=\"sk-container-id-3\" class=\"sk-top-container\"><div class=\"sk-text-repr-fallback\"><pre>GridSearchCV(cv=10,\n",
       "             estimator=GradientBoostingRegressor(criterion=&#x27;squared_error&#x27;),\n",
       "             param_grid={&#x27;learning_rate&#x27;: [0.7, 0.8, 0.6],\n",
       "                         &#x27;max_depth&#x27;: [3, 4, 5],\n",
       "                         &#x27;min_samples_leaf&#x27;: [50, 60, 70],\n",
       "                         &#x27;min_samples_split&#x27;: [100, 110, 120],\n",
       "                         &#x27;n_estimators&#x27;: [25, 50]},\n",
       "             verbose=1)</pre><b>In a Jupyter environment, please rerun this cell to show the HTML representation or trust the notebook. <br />On GitHub, the HTML representation is unable to render, please try loading this page with nbviewer.org.</b></div><div class=\"sk-container\" hidden><div class=\"sk-item sk-dashed-wrapped\"><div class=\"sk-label-container\"><div class=\"sk-label sk-toggleable\"><input class=\"sk-toggleable__control sk-hidden--visually\" id=\"sk-estimator-id-7\" type=\"checkbox\" ><label for=\"sk-estimator-id-7\" class=\"sk-toggleable__label sk-toggleable__label-arrow\">GridSearchCV</label><div class=\"sk-toggleable__content\"><pre>GridSearchCV(cv=10,\n",
       "             estimator=GradientBoostingRegressor(criterion=&#x27;squared_error&#x27;),\n",
       "             param_grid={&#x27;learning_rate&#x27;: [0.7, 0.8, 0.6],\n",
       "                         &#x27;max_depth&#x27;: [3, 4, 5],\n",
       "                         &#x27;min_samples_leaf&#x27;: [50, 60, 70],\n",
       "                         &#x27;min_samples_split&#x27;: [100, 110, 120],\n",
       "                         &#x27;n_estimators&#x27;: [25, 50]},\n",
       "             verbose=1)</pre></div></div></div><div class=\"sk-parallel\"><div class=\"sk-parallel-item\"><div class=\"sk-item\"><div class=\"sk-label-container\"><div class=\"sk-label sk-toggleable\"><input class=\"sk-toggleable__control sk-hidden--visually\" id=\"sk-estimator-id-8\" type=\"checkbox\" ><label for=\"sk-estimator-id-8\" class=\"sk-toggleable__label sk-toggleable__label-arrow\">estimator: GradientBoostingRegressor</label><div class=\"sk-toggleable__content\"><pre>GradientBoostingRegressor(criterion=&#x27;squared_error&#x27;)</pre></div></div></div><div class=\"sk-serial\"><div class=\"sk-item\"><div class=\"sk-estimator sk-toggleable\"><input class=\"sk-toggleable__control sk-hidden--visually\" id=\"sk-estimator-id-9\" type=\"checkbox\" ><label for=\"sk-estimator-id-9\" class=\"sk-toggleable__label sk-toggleable__label-arrow\">GradientBoostingRegressor</label><div class=\"sk-toggleable__content\"><pre>GradientBoostingRegressor(criterion=&#x27;squared_error&#x27;)</pre></div></div></div></div></div></div></div></div></div></div>"
      ],
      "text/plain": [
       "GridSearchCV(cv=10,\n",
       "             estimator=GradientBoostingRegressor(criterion='squared_error'),\n",
       "             param_grid={'learning_rate': [0.7, 0.8, 0.6],\n",
       "                         'max_depth': [3, 4, 5],\n",
       "                         'min_samples_leaf': [50, 60, 70],\n",
       "                         'min_samples_split': [100, 110, 120],\n",
       "                         'n_estimators': [25, 50]},\n",
       "             verbose=1)"
      ]
     },
     "execution_count": 42,
     "metadata": {},
     "output_type": "execute_result"
    }
   ],
   "source": [
    "## Gboosting :\n",
    "params = {\"max_depth\":[3,4,5],\n",
    "         \"min_samples_split\":[100,110,120],\n",
    "         \"min_samples_leaf\":[50,60,70],\n",
    "         'n_estimators':[25,50],\n",
    "         'learning_rate':[0.7,0.8,0.6]}\n",
    "\n",
    "from sklearn.model_selection import GridSearchCV\n",
    "\n",
    "gridcv = GridSearchCV(GradientBoostingRegressor(loss = 'squared_error',criterion ='squared_error'),\n",
    "                     params,\n",
    "                     verbose = 1,\n",
    "                     cv = 10)\n",
    "gridcv.fit(X_train,Y_train)"
   ]
  },
  {
   "cell_type": "code",
   "execution_count": 43,
   "id": "7ec27bde",
   "metadata": {},
   "outputs": [
    {
     "data": {
      "text/plain": [
       "{'learning_rate': 0.7,\n",
       " 'max_depth': 5,\n",
       " 'min_samples_leaf': 50,\n",
       " 'min_samples_split': 100,\n",
       " 'n_estimators': 50}"
      ]
     },
     "execution_count": 43,
     "metadata": {},
     "output_type": "execute_result"
    }
   ],
   "source": [
    "GB = gridcv.best_params_\n",
    "GB"
   ]
  },
  {
   "cell_type": "code",
   "execution_count": 44,
   "id": "386e6882",
   "metadata": {},
   "outputs": [
    {
     "name": "stdout",
     "output_type": "stream",
     "text": [
      "Fitting 10 folds for each of 486 candidates, totalling 4860 fits\n"
     ]
    },
    {
     "data": {
      "text/html": [
       "<style>#sk-container-id-4 {color: black;}#sk-container-id-4 pre{padding: 0;}#sk-container-id-4 div.sk-toggleable {background-color: white;}#sk-container-id-4 label.sk-toggleable__label {cursor: pointer;display: block;width: 100%;margin-bottom: 0;padding: 0.3em;box-sizing: border-box;text-align: center;}#sk-container-id-4 label.sk-toggleable__label-arrow:before {content: \"▸\";float: left;margin-right: 0.25em;color: #696969;}#sk-container-id-4 label.sk-toggleable__label-arrow:hover:before {color: black;}#sk-container-id-4 div.sk-estimator:hover label.sk-toggleable__label-arrow:before {color: black;}#sk-container-id-4 div.sk-toggleable__content {max-height: 0;max-width: 0;overflow: hidden;text-align: left;background-color: #f0f8ff;}#sk-container-id-4 div.sk-toggleable__content pre {margin: 0.2em;color: black;border-radius: 0.25em;background-color: #f0f8ff;}#sk-container-id-4 input.sk-toggleable__control:checked~div.sk-toggleable__content {max-height: 200px;max-width: 100%;overflow: auto;}#sk-container-id-4 input.sk-toggleable__control:checked~label.sk-toggleable__label-arrow:before {content: \"▾\";}#sk-container-id-4 div.sk-estimator input.sk-toggleable__control:checked~label.sk-toggleable__label {background-color: #d4ebff;}#sk-container-id-4 div.sk-label input.sk-toggleable__control:checked~label.sk-toggleable__label {background-color: #d4ebff;}#sk-container-id-4 input.sk-hidden--visually {border: 0;clip: rect(1px 1px 1px 1px);clip: rect(1px, 1px, 1px, 1px);height: 1px;margin: -1px;overflow: hidden;padding: 0;position: absolute;width: 1px;}#sk-container-id-4 div.sk-estimator {font-family: monospace;background-color: #f0f8ff;border: 1px dotted black;border-radius: 0.25em;box-sizing: border-box;margin-bottom: 0.5em;}#sk-container-id-4 div.sk-estimator:hover {background-color: #d4ebff;}#sk-container-id-4 div.sk-parallel-item::after {content: \"\";width: 100%;border-bottom: 1px solid gray;flex-grow: 1;}#sk-container-id-4 div.sk-label:hover label.sk-toggleable__label {background-color: #d4ebff;}#sk-container-id-4 div.sk-serial::before {content: \"\";position: absolute;border-left: 1px solid gray;box-sizing: border-box;top: 0;bottom: 0;left: 50%;z-index: 0;}#sk-container-id-4 div.sk-serial {display: flex;flex-direction: column;align-items: center;background-color: white;padding-right: 0.2em;padding-left: 0.2em;position: relative;}#sk-container-id-4 div.sk-item {position: relative;z-index: 1;}#sk-container-id-4 div.sk-parallel {display: flex;align-items: stretch;justify-content: center;background-color: white;position: relative;}#sk-container-id-4 div.sk-item::before, #sk-container-id-4 div.sk-parallel-item::before {content: \"\";position: absolute;border-left: 1px solid gray;box-sizing: border-box;top: 0;bottom: 0;left: 50%;z-index: -1;}#sk-container-id-4 div.sk-parallel-item {display: flex;flex-direction: column;z-index: 1;position: relative;background-color: white;}#sk-container-id-4 div.sk-parallel-item:first-child::after {align-self: flex-end;width: 50%;}#sk-container-id-4 div.sk-parallel-item:last-child::after {align-self: flex-start;width: 50%;}#sk-container-id-4 div.sk-parallel-item:only-child::after {width: 0;}#sk-container-id-4 div.sk-dashed-wrapped {border: 1px dashed gray;margin: 0 0.4em 0.5em 0.4em;box-sizing: border-box;padding-bottom: 0.4em;background-color: white;}#sk-container-id-4 div.sk-label label {font-family: monospace;font-weight: bold;display: inline-block;line-height: 1.2em;}#sk-container-id-4 div.sk-label-container {text-align: center;}#sk-container-id-4 div.sk-container {/* jupyter's `normalize.less` sets `[hidden] { display: none; }` but bootstrap.min.css set `[hidden] { display: none !important; }` so we also need the `!important` here to be able to override the default hidden behavior on the sphinx rendered scikit-learn.org. See: https://github.com/scikit-learn/scikit-learn/issues/21755 */display: inline-block !important;position: relative;}#sk-container-id-4 div.sk-text-repr-fallback {display: none;}</style><div id=\"sk-container-id-4\" class=\"sk-top-container\"><div class=\"sk-text-repr-fallback\"><pre>GridSearchCV(cv=10,\n",
       "             estimator=XGBRegressor(base_score=None, booster=None,\n",
       "                                    callbacks=None, colsample_bylevel=None,\n",
       "                                    colsample_bynode=None,\n",
       "                                    colsample_bytree=None, device=None,\n",
       "                                    early_stopping_rounds=None,\n",
       "                                    enable_categorical=False, eval_metric=None,\n",
       "                                    feature_types=None, gamma=None,\n",
       "                                    grow_policy=None, importance_type=None,\n",
       "                                    interaction_constraints=None,\n",
       "                                    learning_rate=None,...\n",
       "                                    min_child_weight=None, missing=nan,\n",
       "                                    monotone_constraints=None,\n",
       "                                    multi_strategy=None, n_estimators=None,\n",
       "                                    n_jobs=None, num_parallel_tree=None,\n",
       "                                    random_state=None, ...),\n",
       "             n_jobs=-1,\n",
       "             param_grid={&#x27;learning_rate&#x27;: [0.7, 0.8, 0.6],\n",
       "                         &#x27;max_depth&#x27;: [3, 4, 5],\n",
       "                         &#x27;min_samples_leaf&#x27;: [50, 60, 70],\n",
       "                         &#x27;min_samples_split&#x27;: [100, 110, 120],\n",
       "                         &#x27;n_estimators&#x27;: [25, 50], &#x27;reg_lambda&#x27;: [0, 1, 2]},\n",
       "             scoring=&#x27;accuracy&#x27;, verbose=1)</pre><b>In a Jupyter environment, please rerun this cell to show the HTML representation or trust the notebook. <br />On GitHub, the HTML representation is unable to render, please try loading this page with nbviewer.org.</b></div><div class=\"sk-container\" hidden><div class=\"sk-item sk-dashed-wrapped\"><div class=\"sk-label-container\"><div class=\"sk-label sk-toggleable\"><input class=\"sk-toggleable__control sk-hidden--visually\" id=\"sk-estimator-id-10\" type=\"checkbox\" ><label for=\"sk-estimator-id-10\" class=\"sk-toggleable__label sk-toggleable__label-arrow\">GridSearchCV</label><div class=\"sk-toggleable__content\"><pre>GridSearchCV(cv=10,\n",
       "             estimator=XGBRegressor(base_score=None, booster=None,\n",
       "                                    callbacks=None, colsample_bylevel=None,\n",
       "                                    colsample_bynode=None,\n",
       "                                    colsample_bytree=None, device=None,\n",
       "                                    early_stopping_rounds=None,\n",
       "                                    enable_categorical=False, eval_metric=None,\n",
       "                                    feature_types=None, gamma=None,\n",
       "                                    grow_policy=None, importance_type=None,\n",
       "                                    interaction_constraints=None,\n",
       "                                    learning_rate=None,...\n",
       "                                    min_child_weight=None, missing=nan,\n",
       "                                    monotone_constraints=None,\n",
       "                                    multi_strategy=None, n_estimators=None,\n",
       "                                    n_jobs=None, num_parallel_tree=None,\n",
       "                                    random_state=None, ...),\n",
       "             n_jobs=-1,\n",
       "             param_grid={&#x27;learning_rate&#x27;: [0.7, 0.8, 0.6],\n",
       "                         &#x27;max_depth&#x27;: [3, 4, 5],\n",
       "                         &#x27;min_samples_leaf&#x27;: [50, 60, 70],\n",
       "                         &#x27;min_samples_split&#x27;: [100, 110, 120],\n",
       "                         &#x27;n_estimators&#x27;: [25, 50], &#x27;reg_lambda&#x27;: [0, 1, 2]},\n",
       "             scoring=&#x27;accuracy&#x27;, verbose=1)</pre></div></div></div><div class=\"sk-parallel\"><div class=\"sk-parallel-item\"><div class=\"sk-item\"><div class=\"sk-label-container\"><div class=\"sk-label sk-toggleable\"><input class=\"sk-toggleable__control sk-hidden--visually\" id=\"sk-estimator-id-11\" type=\"checkbox\" ><label for=\"sk-estimator-id-11\" class=\"sk-toggleable__label sk-toggleable__label-arrow\">estimator: XGBRegressor</label><div class=\"sk-toggleable__content\"><pre>XGBRegressor(base_score=None, booster=None, callbacks=None,\n",
       "             colsample_bylevel=None, colsample_bynode=None,\n",
       "             colsample_bytree=None, device=None, early_stopping_rounds=None,\n",
       "             enable_categorical=False, eval_metric=None, feature_types=None,\n",
       "             gamma=None, grow_policy=None, importance_type=None,\n",
       "             interaction_constraints=None, learning_rate=None, max_bin=None,\n",
       "             max_cat_threshold=None, max_cat_to_onehot=None,\n",
       "             max_delta_step=None, max_depth=None, max_leaves=None,\n",
       "             min_child_weight=None, missing=nan, monotone_constraints=None,\n",
       "             multi_strategy=None, n_estimators=None, n_jobs=None,\n",
       "             num_parallel_tree=None, random_state=None, ...)</pre></div></div></div><div class=\"sk-serial\"><div class=\"sk-item\"><div class=\"sk-estimator sk-toggleable\"><input class=\"sk-toggleable__control sk-hidden--visually\" id=\"sk-estimator-id-12\" type=\"checkbox\" ><label for=\"sk-estimator-id-12\" class=\"sk-toggleable__label sk-toggleable__label-arrow\">XGBRegressor</label><div class=\"sk-toggleable__content\"><pre>XGBRegressor(base_score=None, booster=None, callbacks=None,\n",
       "             colsample_bylevel=None, colsample_bynode=None,\n",
       "             colsample_bytree=None, device=None, early_stopping_rounds=None,\n",
       "             enable_categorical=False, eval_metric=None, feature_types=None,\n",
       "             gamma=None, grow_policy=None, importance_type=None,\n",
       "             interaction_constraints=None, learning_rate=None, max_bin=None,\n",
       "             max_cat_threshold=None, max_cat_to_onehot=None,\n",
       "             max_delta_step=None, max_depth=None, max_leaves=None,\n",
       "             min_child_weight=None, missing=nan, monotone_constraints=None,\n",
       "             multi_strategy=None, n_estimators=None, n_jobs=None,\n",
       "             num_parallel_tree=None, random_state=None, ...)</pre></div></div></div></div></div></div></div></div></div></div>"
      ],
      "text/plain": [
       "GridSearchCV(cv=10,\n",
       "             estimator=XGBRegressor(base_score=None, booster=None,\n",
       "                                    callbacks=None, colsample_bylevel=None,\n",
       "                                    colsample_bynode=None,\n",
       "                                    colsample_bytree=None, device=None,\n",
       "                                    early_stopping_rounds=None,\n",
       "                                    enable_categorical=False, eval_metric=None,\n",
       "                                    feature_types=None, gamma=None,\n",
       "                                    grow_policy=None, importance_type=None,\n",
       "                                    interaction_constraints=None,\n",
       "                                    learning_rate=None,...\n",
       "                                    min_child_weight=None, missing=nan,\n",
       "                                    monotone_constraints=None,\n",
       "                                    multi_strategy=None, n_estimators=None,\n",
       "                                    n_jobs=None, num_parallel_tree=None,\n",
       "                                    random_state=None, ...),\n",
       "             n_jobs=-1,\n",
       "             param_grid={'learning_rate': [0.7, 0.8, 0.6],\n",
       "                         'max_depth': [3, 4, 5],\n",
       "                         'min_samples_leaf': [50, 60, 70],\n",
       "                         'min_samples_split': [100, 110, 120],\n",
       "                         'n_estimators': [25, 50], 'reg_lambda': [0, 1, 2]},\n",
       "             scoring='accuracy', verbose=1)"
      ]
     },
     "execution_count": 44,
     "metadata": {},
     "output_type": "execute_result"
    }
   ],
   "source": [
    "## XGboosting :\n",
    "params = {\"max_depth\":[3,4,5],\n",
    "         \"min_samples_split\":[100,110,120],\n",
    "         \"min_samples_leaf\":[50,60,70],\n",
    "         'n_estimators':[25,50],\n",
    "         'learning_rate':[0.7,0.8,0.6],\n",
    "         'reg_lambda':[0,1,2]}\n",
    "\n",
    "from sklearn.model_selection import GridSearchCV\n",
    "\n",
    "gridcv = GridSearchCV(XGBRegressor(),\n",
    "                     param_grid=params,\n",
    "                     verbose = 1,\n",
    "                     cv = 10,\n",
    "                     n_jobs=-1,\n",
    "                     scoring='accuracy')\n",
    "gridcv.fit(X_train,Y_train)"
   ]
  },
  {
   "cell_type": "code",
   "execution_count": 45,
   "id": "d755db0c",
   "metadata": {},
   "outputs": [
    {
     "data": {
      "text/plain": [
       "{'learning_rate': 0.7,\n",
       " 'max_depth': 3,\n",
       " 'min_samples_leaf': 50,\n",
       " 'min_samples_split': 100,\n",
       " 'n_estimators': 25,\n",
       " 'reg_lambda': 0}"
      ]
     },
     "execution_count": 45,
     "metadata": {},
     "output_type": "execute_result"
    }
   ],
   "source": [
    "XGB = gridcv.best_params_\n",
    "XGB"
   ]
  },
  {
   "cell_type": "code",
   "execution_count": 46,
   "id": "ce257337",
   "metadata": {},
   "outputs": [],
   "source": [
    "Algorithms = [[\"4. DecisionTreeRegressor :\",DecisionTreeRegressor(**DT)],\n",
    "             [\"5. RandomForestRegressor :\",RandomForestRegressor(**RF)],\n",
    "             [\"7. GradientBoostingRegressor :\",GradientBoostingRegressor(**GB)],\n",
    "             [\"9. XGBRegressor :\",XGBRegressor(**XGB)]]"
   ]
  },
  {
   "cell_type": "code",
   "execution_count": 47,
   "id": "0631acd4",
   "metadata": {},
   "outputs": [],
   "source": [
    "R2_train_ = []\n",
    "rmse_train = []\n",
    "R2_test_ = []\n",
    "rmse_test = []\n",
    "\n",
    "\n",
    "for name , model in Algorithms:\n",
    "    model.fit(X_train,Y_train)\n",
    "    Train_pre = model.predict(X_train)\n",
    "    Test_pre = model.predict(X_test)\n",
    "    R2_train = round(r2_score(Y_train,Train_pre)*100,2)\n",
    "    R2_train_.append(R2_train)\n",
    "    RMSE_train = round(np.sqrt(mean_squared_error(Y_train,Train_pre)),2)\n",
    "    rmse_train.append(RMSE_train)\n",
    "    R2_test = round(r2_score(Y_test,Test_pre)*100,2)\n",
    "    R2_test_.append(R2_test)\n",
    "    RMSE_test = round(np.sqrt(mean_squared_error(Y_test,Test_pre)),2)\n",
    "    rmse_test.append(RMSE_test)"
   ]
  },
  {
   "cell_type": "code",
   "execution_count": 48,
   "id": "b79149b1",
   "metadata": {},
   "outputs": [
    {
     "data": {
      "text/html": [
       "<style type=\"text/css\">\n",
       "#T_a9583_row0_col0, #T_a9583_row0_col1, #T_a9583_row1_col0, #T_a9583_row1_col1, #T_a9583_row2_col1, #T_a9583_row2_col2, #T_a9583_row2_col3, #T_a9583_row3_col0, #T_a9583_row3_col1, #T_a9583_row3_col2, #T_a9583_row3_col3 {\n",
       "  background-color: green;\n",
       "}\n",
       "#T_a9583_row0_col2, #T_a9583_row0_col3, #T_a9583_row1_col2, #T_a9583_row1_col3, #T_a9583_row2_col0 {\n",
       "  background-color: orange;\n",
       "}\n",
       "</style>\n",
       "<table id=\"T_a9583\">\n",
       "  <thead>\n",
       "    <tr>\n",
       "      <th class=\"blank level0\" >&nbsp;</th>\n",
       "      <th id=\"T_a9583_level0_col0\" class=\"col_heading level0 col0\" >R2_train_</th>\n",
       "      <th id=\"T_a9583_level0_col1\" class=\"col_heading level0 col1\" >R2_test_</th>\n",
       "      <th id=\"T_a9583_level0_col2\" class=\"col_heading level0 col2\" >rmse_train</th>\n",
       "      <th id=\"T_a9583_level0_col3\" class=\"col_heading level0 col3\" >rmse_test</th>\n",
       "    </tr>\n",
       "    <tr>\n",
       "      <th class=\"index_name level0\" >Algorithms</th>\n",
       "      <th class=\"blank col0\" >&nbsp;</th>\n",
       "      <th class=\"blank col1\" >&nbsp;</th>\n",
       "      <th class=\"blank col2\" >&nbsp;</th>\n",
       "      <th class=\"blank col3\" >&nbsp;</th>\n",
       "    </tr>\n",
       "  </thead>\n",
       "  <tbody>\n",
       "    <tr>\n",
       "      <th id=\"T_a9583_level0_row0\" class=\"row_heading level0 row0\" >DecisionTree</th>\n",
       "      <td id=\"T_a9583_row0_col0\" class=\"data row0 col0\" >73.220000</td>\n",
       "      <td id=\"T_a9583_row0_col1\" class=\"data row0 col1\" >75.820000</td>\n",
       "      <td id=\"T_a9583_row0_col2\" class=\"data row0 col2\" >12.170000</td>\n",
       "      <td id=\"T_a9583_row0_col3\" class=\"data row0 col3\" >11.130000</td>\n",
       "    </tr>\n",
       "    <tr>\n",
       "      <th id=\"T_a9583_level0_row1\" class=\"row_heading level0 row1\" >RandomForest</th>\n",
       "      <td id=\"T_a9583_row1_col0\" class=\"data row1 col0\" >74.390000</td>\n",
       "      <td id=\"T_a9583_row1_col1\" class=\"data row1 col1\" >76.960000</td>\n",
       "      <td id=\"T_a9583_row1_col2\" class=\"data row1 col2\" >11.900000</td>\n",
       "      <td id=\"T_a9583_row1_col3\" class=\"data row1 col3\" >10.860000</td>\n",
       "    </tr>\n",
       "    <tr>\n",
       "      <th id=\"T_a9583_level0_row2\" class=\"row_heading level0 row2\" >GBoosting</th>\n",
       "      <td id=\"T_a9583_row2_col0\" class=\"data row2 col0\" >91.670000</td>\n",
       "      <td id=\"T_a9583_row2_col1\" class=\"data row2 col1\" >89.450000</td>\n",
       "      <td id=\"T_a9583_row2_col2\" class=\"data row2 col2\" >6.790000</td>\n",
       "      <td id=\"T_a9583_row2_col3\" class=\"data row2 col3\" >7.350000</td>\n",
       "    </tr>\n",
       "    <tr>\n",
       "      <th id=\"T_a9583_level0_row3\" class=\"row_heading level0 row3\" >XGB</th>\n",
       "      <td id=\"T_a9583_row3_col0\" class=\"data row3 col0\" >86.400000</td>\n",
       "      <td id=\"T_a9583_row3_col1\" class=\"data row3 col1\" >85.300000</td>\n",
       "      <td id=\"T_a9583_row3_col2\" class=\"data row3 col2\" >8.670000</td>\n",
       "      <td id=\"T_a9583_row3_col3\" class=\"data row3 col3\" >8.680000</td>\n",
       "    </tr>\n",
       "  </tbody>\n",
       "</table>\n"
      ],
      "text/plain": [
       "<pandas.io.formats.style.Styler at 0x2489b429cd0>"
      ]
     },
     "execution_count": 48,
     "metadata": {},
     "output_type": "execute_result"
    }
   ],
   "source": [
    "Algorithms = [\"DecisionTree\",\"RandomForest\",\"GBoosting\",\"XGB\"]\n",
    "ab = {\"Algorithms\":Algorithms,\n",
    "      \"R2_train_\":R2_train_,\n",
    "      \"R2_test_\":R2_test_,\n",
    "      \"rmse_train\":rmse_train,\n",
    "      \"rmse_test\":rmse_test}\n",
    "ab = pd.DataFrame(ab)\n",
    "ab = ab.set_index('Algorithms')\n",
    "cd = ab.style.applymap(lambda x: 'background-color: green' if ( (x < 90 and x > 70) or x < 10) else \"background-color: orange\" )\n",
    "cd"
   ]
  },
  {
   "cell_type": "code",
   "execution_count": 49,
   "id": "d2999bee",
   "metadata": {
    "scrolled": false
   },
   "outputs": [
    {
     "data": {
      "text/plain": [
       "Text(0.5, 0, 'Test_RMSE_Score')"
      ]
     },
     "execution_count": 49,
     "metadata": {},
     "output_type": "execute_result"
    },
    {
     "data": {
      "image/png": "[encoded data removed]",
      "text/plain": [
       "<Figure size 1500x500 with 1 Axes>"
      ]
     },
     "metadata": {},
     "output_type": "display_data"
    },
    {
     "data": {
      "image/png": "[encoded data removed]",
      "text/plain": [
       "<Figure size 1500x500 with 1 Axes>"
      ]
     },
     "metadata": {},
     "output_type": "display_data"
    },
    {
     "data": {
      "image/png": "[encoded data removed]",
      "text/plain": [
       "<Figure size 1500x500 with 1 Axes>"
      ]
     },
     "metadata": {},
     "output_type": "display_data"
    },
    {
     "data": {
      "image/png": "[encoded data removed]",
      "text/plain": [
       "<Figure size 1500x500 with 1 Axes>"
      ]
     },
     "metadata": {},
     "output_type": "display_data"
    }
   ],
   "source": [
    "plt.figure(figsize=(15,5))\n",
    "plots = sns.barplot(x =Algorithms,y =ab['R2_train_'] ,linewidth = 1.5, edgecolor='0.1')\n",
    "for bar in plots.patches:\n",
    "    plots.annotate(format(bar.get_height(),'.2f'),\n",
    "                  (bar.get_x() + bar.get_width()/2,\n",
    "                  bar.get_height()), ha = 'center', va='center',\n",
    "                  size = 10, xytext = (0,5),\n",
    "                  textcoords = 'offset points')\n",
    "plt.xlabel(\"Train_R2_Score\")\n",
    "\n",
    "plt.figure(figsize=(15,5))\n",
    "plots = sns.barplot(x =Algorithms,y = ab['rmse_train'],linewidth = 1.5, edgecolor='0.1')\n",
    "for bar in plots.patches:\n",
    "    plots.annotate(format(bar.get_height(),'.2f'),\n",
    "                  (bar.get_x() + bar.get_width()/2,\n",
    "                  bar.get_height()), ha = 'center', va='center',\n",
    "                  size = 10, xytext = (0,5),\n",
    "                  textcoords = 'offset points')\n",
    "plt.xlabel(\"Train_RMSE_Score\")\n",
    "\n",
    "plt.figure(figsize=(15,5))\n",
    "plots = sns.barplot(x =Algorithms,y = ab['R2_test_'],linewidth = 1.5, edgecolor='0.1')\n",
    "for bar in plots.patches:\n",
    "    plots.annotate(format(bar.get_height(),'.2f'),\n",
    "                  (bar.get_x() + bar.get_width()/2,\n",
    "                  bar.get_height()), ha = 'center', va='center',\n",
    "                  size = 10, xytext = (0,5),\n",
    "                  textcoords = 'offset points')\n",
    "plt.xlabel(\"Test_R2_Score\")\n",
    "\n",
    "\n",
    "plt.figure(figsize=(15,5))\n",
    "plots = sns.barplot(x =Algorithms,y = ab['rmse_test'],linewidth = 1.5, edgecolor='0.1')\n",
    "for bar in plots.patches:\n",
    "    plots.annotate(format(bar.get_height(),'.2f'),\n",
    "                  (bar.get_x() + bar.get_width()/2,\n",
    "                  bar.get_height()), ha = 'center', va='center',\n",
    "                  size = 10, xytext = (0,5),\n",
    "                  textcoords = 'offset points')\n",
    "plt.xlabel(\"Test_RMSE_Score\")"
   ]
  },
  {
   "cell_type": "markdown",
   "id": "cdf33fd0",
   "metadata": {},
   "source": [
    "#### Interpretation:\n",
    "1. Decision Tree and Random Forest Good fit on Both Train & Test Data but Log function crosses the boundary(RMSE > 10).\n",
    "2. GBoosting Overfit on train Data.\n",
    "3. XGBoosting Good-fit on Train & Test Data but also stay in limit of Log Function (RMSE <=10).\n",
    "\n",
    "Therefore, We use XGB as a model to make predictions."
   ]
  },
  {
   "cell_type": "code",
   "execution_count": 50,
   "id": "7ebc31f1",
   "metadata": {
    "scrolled": true
   },
   "outputs": [
    {
     "data": {
      "text/html": [
       "<style>#sk-container-id-5 {color: black;}#sk-container-id-5 pre{padding: 0;}#sk-container-id-5 div.sk-toggleable {background-color: white;}#sk-container-id-5 label.sk-toggleable__label {cursor: pointer;display: block;width: 100%;margin-bottom: 0;padding: 0.3em;box-sizing: border-box;text-align: center;}#sk-container-id-5 label.sk-toggleable__label-arrow:before {content: \"▸\";float: left;margin-right: 0.25em;color: #696969;}#sk-container-id-5 label.sk-toggleable__label-arrow:hover:before {color: black;}#sk-container-id-5 div.sk-estimator:hover label.sk-toggleable__label-arrow:before {color: black;}#sk-container-id-5 div.sk-toggleable__content {max-height: 0;max-width: 0;overflow: hidden;text-align: left;background-color: #f0f8ff;}#sk-container-id-5 div.sk-toggleable__content pre {margin: 0.2em;color: black;border-radius: 0.25em;background-color: #f0f8ff;}#sk-container-id-5 input.sk-toggleable__control:checked~div.sk-toggleable__content {max-height: 200px;max-width: 100%;overflow: auto;}#sk-container-id-5 input.sk-toggleable__control:checked~label.sk-toggleable__label-arrow:before {content: \"▾\";}#sk-container-id-5 div.sk-estimator input.sk-toggleable__control:checked~label.sk-toggleable__label {background-color: #d4ebff;}#sk-container-id-5 div.sk-label input.sk-toggleable__control:checked~label.sk-toggleable__label {background-color: #d4ebff;}#sk-container-id-5 input.sk-hidden--visually {border: 0;clip: rect(1px 1px 1px 1px);clip: rect(1px, 1px, 1px, 1px);height: 1px;margin: -1px;overflow: hidden;padding: 0;position: absolute;width: 1px;}#sk-container-id-5 div.sk-estimator {font-family: monospace;background-color: #f0f8ff;border: 1px dotted black;border-radius: 0.25em;box-sizing: border-box;margin-bottom: 0.5em;}#sk-container-id-5 div.sk-estimator:hover {background-color: #d4ebff;}#sk-container-id-5 div.sk-parallel-item::after {content: \"\";width: 100%;border-bottom: 1px solid gray;flex-grow: 1;}#sk-container-id-5 div.sk-label:hover label.sk-toggleable__label {background-color: #d4ebff;}#sk-container-id-5 div.sk-serial::before {content: \"\";position: absolute;border-left: 1px solid gray;box-sizing: border-box;top: 0;bottom: 0;left: 50%;z-index: 0;}#sk-container-id-5 div.sk-serial {display: flex;flex-direction: column;align-items: center;background-color: white;padding-right: 0.2em;padding-left: 0.2em;position: relative;}#sk-container-id-5 div.sk-item {position: relative;z-index: 1;}#sk-container-id-5 div.sk-parallel {display: flex;align-items: stretch;justify-content: center;background-color: white;position: relative;}#sk-container-id-5 div.sk-item::before, #sk-container-id-5 div.sk-parallel-item::before {content: \"\";position: absolute;border-left: 1px solid gray;box-sizing: border-box;top: 0;bottom: 0;left: 50%;z-index: -1;}#sk-container-id-5 div.sk-parallel-item {display: flex;flex-direction: column;z-index: 1;position: relative;background-color: white;}#sk-container-id-5 div.sk-parallel-item:first-child::after {align-self: flex-end;width: 50%;}#sk-container-id-5 div.sk-parallel-item:last-child::after {align-self: flex-start;width: 50%;}#sk-container-id-5 div.sk-parallel-item:only-child::after {width: 0;}#sk-container-id-5 div.sk-dashed-wrapped {border: 1px dashed gray;margin: 0 0.4em 0.5em 0.4em;box-sizing: border-box;padding-bottom: 0.4em;background-color: white;}#sk-container-id-5 div.sk-label label {font-family: monospace;font-weight: bold;display: inline-block;line-height: 1.2em;}#sk-container-id-5 div.sk-label-container {text-align: center;}#sk-container-id-5 div.sk-container {/* jupyter's `normalize.less` sets `[hidden] { display: none; }` but bootstrap.min.css set `[hidden] { display: none !important; }` so we also need the `!important` here to be able to override the default hidden behavior on the sphinx rendered scikit-learn.org. See: https://github.com/scikit-learn/scikit-learn/issues/21755 */display: inline-block !important;position: relative;}#sk-container-id-5 div.sk-text-repr-fallback {display: none;}</style><div id=\"sk-container-id-5\" class=\"sk-top-container\"><div class=\"sk-text-repr-fallback\"><pre>XGBRegressor(base_score=None, booster=None, callbacks=None,\n",
       "             colsample_bylevel=None, colsample_bynode=None,\n",
       "             colsample_bytree=None, device=None, early_stopping_rounds=None,\n",
       "             enable_categorical=False, eval_metric=None, feature_types=None,\n",
       "             gamma=None, grow_policy=None, importance_type=None,\n",
       "             interaction_constraints=None, learning_rate=0.7, max_bin=None,\n",
       "             max_cat_threshold=None, max_cat_to_onehot=None,\n",
       "             max_delta_step=None, max_depth=3, max_leaves=None,\n",
       "             min_child_weight=None, min_samples_leaf=50, min_samples_split=100,\n",
       "             missing=nan, monotone_constraints=None, multi_strategy=None,\n",
       "             n_estimators=25, n_jobs=None, ...)</pre><b>In a Jupyter environment, please rerun this cell to show the HTML representation or trust the notebook. <br />On GitHub, the HTML representation is unable to render, please try loading this page with nbviewer.org.</b></div><div class=\"sk-container\" hidden><div class=\"sk-item\"><div class=\"sk-estimator sk-toggleable\"><input class=\"sk-toggleable__control sk-hidden--visually\" id=\"sk-estimator-id-13\" type=\"checkbox\" checked><label for=\"sk-estimator-id-13\" class=\"sk-toggleable__label sk-toggleable__label-arrow\">XGBRegressor</label><div class=\"sk-toggleable__content\"><pre>XGBRegressor(base_score=None, booster=None, callbacks=None,\n",
       "             colsample_bylevel=None, colsample_bynode=None,\n",
       "             colsample_bytree=None, device=None, early_stopping_rounds=None,\n",
       "             enable_categorical=False, eval_metric=None, feature_types=None,\n",
       "             gamma=None, grow_policy=None, importance_type=None,\n",
       "             interaction_constraints=None, learning_rate=0.7, max_bin=None,\n",
       "             max_cat_threshold=None, max_cat_to_onehot=None,\n",
       "             max_delta_step=None, max_depth=3, max_leaves=None,\n",
       "             min_child_weight=None, min_samples_leaf=50, min_samples_split=100,\n",
       "             missing=nan, monotone_constraints=None, multi_strategy=None,\n",
       "             n_estimators=25, n_jobs=None, ...)</pre></div></div></div></div></div>"
      ],
      "text/plain": [
       "XGBRegressor(base_score=None, booster=None, callbacks=None,\n",
       "             colsample_bylevel=None, colsample_bynode=None,\n",
       "             colsample_bytree=None, device=None, early_stopping_rounds=None,\n",
       "             enable_categorical=False, eval_metric=None, feature_types=None,\n",
       "             gamma=None, grow_policy=None, importance_type=None,\n",
       "             interaction_constraints=None, learning_rate=0.7, max_bin=None,\n",
       "             max_cat_threshold=None, max_cat_to_onehot=None,\n",
       "             max_delta_step=None, max_depth=3, max_leaves=None,\n",
       "             min_child_weight=None, min_samples_leaf=50, min_samples_split=100,\n",
       "             missing=nan, monotone_constraints=None, multi_strategy=None,\n",
       "             n_estimators=25, n_jobs=None, ...)"
      ]
     },
     "execution_count": 50,
     "metadata": {},
     "output_type": "execute_result"
    }
   ],
   "source": [
    "model = XGBRegressor(**XGB)\n",
    "model.fit(X_train,Y_train)"
   ]
  },
  {
   "cell_type": "code",
   "execution_count": 51,
   "id": "b3fd00f4",
   "metadata": {},
   "outputs": [],
   "source": [
    "train = pd.concat([X_train,Y_train],axis=1)\n",
    "test = pd.concat([X_test,Y_test],axis=1)"
   ]
  },
  {
   "cell_type": "code",
   "execution_count": 52,
   "id": "ea00759a",
   "metadata": {
    "scrolled": true
   },
   "outputs": [
    {
     "name": "stdout",
     "output_type": "stream",
     "text": [
      "R2_train : 86.4\n",
      "RMSE_train : 8.67\n",
      "R2_test : 85.3\n",
      "RMSE_test : 8.68\n"
     ]
    }
   ],
   "source": [
    "Train_pre = model.predict(X_train)\n",
    "train['Prediction'] = Train_pre\n",
    "Test_pre = model.predict(X_test)\n",
    "test['Prediction'] = Test_pre\n",
    "R2_train = round(r2_score(Y_train,Train_pre)*100,2)\n",
    "print(\"R2_train :\",R2_train)\n",
    "RMSE_train = round(np.sqrt(mean_squared_error(Y_train,Train_pre)),2)\n",
    "print(\"RMSE_train :\",RMSE_train)\n",
    "R2_test = round(r2_score(Y_test,Test_pre)*100,2)\n",
    "print(\"R2_test :\",R2_test)\n",
    "RMSE_test = round(np.sqrt(mean_squared_error(Y_test,Test_pre)),2)\n",
    "print(\"RMSE_test :\",RMSE_test)"
   ]
  },
  {
   "cell_type": "code",
   "execution_count": 53,
   "id": "cf1881b4",
   "metadata": {},
   "outputs": [],
   "source": [
    "train['Original_price'] = round(np.square(train['Price']),2)\n",
    "train['Original_price_pre'] = round(np.square(train['Prediction']),2)\n",
    "\n",
    "test['Original_price'] = round(np.square(test['Price']),2)\n",
    "test['Original_price_pre'] = round(np.square(test['Prediction']),2)"
   ]
  },
  {
   "cell_type": "code",
   "execution_count": 54,
   "id": "ea0d299b",
   "metadata": {},
   "outputs": [
    {
     "data": {
      "text/html": [
       "<div>\n",
       "<style scoped>\n",
       "    .dataframe tbody tr th:only-of-type {\n",
       "        vertical-align: middle;\n",
       "    }\n",
       "\n",
       "    .dataframe tbody tr th {\n",
       "        vertical-align: top;\n",
       "    }\n",
       "\n",
       "    .dataframe thead th {\n",
       "        text-align: right;\n",
       "    }\n",
       "</style>\n",
       "<table border=\"1\" class=\"dataframe\">\n",
       "  <thead>\n",
       "    <tr style=\"text-align: right;\">\n",
       "      <th></th>\n",
       "      <th>Airline</th>\n",
       "      <th>Source</th>\n",
       "      <th>Destination</th>\n",
       "      <th>Dep_Time</th>\n",
       "      <th>Arrival_Time</th>\n",
       "      <th>Total_Stops</th>\n",
       "      <th>Additional_Info</th>\n",
       "      <th>Duration_min</th>\n",
       "      <th>Date</th>\n",
       "      <th>Month</th>\n",
       "      <th>year</th>\n",
       "      <th>Price</th>\n",
       "      <th>Prediction</th>\n",
       "      <th>Original_price</th>\n",
       "      <th>Original_price_pre</th>\n",
       "    </tr>\n",
       "  </thead>\n",
       "  <tbody>\n",
       "    <tr>\n",
       "      <th>9863</th>\n",
       "      <td>8</td>\n",
       "      <td>2</td>\n",
       "      <td>1</td>\n",
       "      <td>1</td>\n",
       "      <td>0</td>\n",
       "      <td>0</td>\n",
       "      <td>7</td>\n",
       "      <td>270</td>\n",
       "      <td>3</td>\n",
       "      <td>4</td>\n",
       "      <td>2019</td>\n",
       "      <td>64.015623</td>\n",
       "      <td>66.016861</td>\n",
       "      <td>4098.0</td>\n",
       "      <td>4358.229980</td>\n",
       "    </tr>\n",
       "    <tr>\n",
       "      <th>1117</th>\n",
       "      <td>0</td>\n",
       "      <td>0</td>\n",
       "      <td>5</td>\n",
       "      <td>1</td>\n",
       "      <td>1</td>\n",
       "      <td>4</td>\n",
       "      <td>8</td>\n",
       "      <td>170</td>\n",
       "      <td>24</td>\n",
       "      <td>3</td>\n",
       "      <td>2019</td>\n",
       "      <td>58.163562</td>\n",
       "      <td>62.216526</td>\n",
       "      <td>3383.0</td>\n",
       "      <td>3870.899902</td>\n",
       "    </tr>\n",
       "    <tr>\n",
       "      <th>8165</th>\n",
       "      <td>4</td>\n",
       "      <td>3</td>\n",
       "      <td>0</td>\n",
       "      <td>2</td>\n",
       "      <td>3</td>\n",
       "      <td>0</td>\n",
       "      <td>8</td>\n",
       "      <td>800</td>\n",
       "      <td>6</td>\n",
       "      <td>5</td>\n",
       "      <td>2019</td>\n",
       "      <td>119.949990</td>\n",
       "      <td>118.146355</td>\n",
       "      <td>14388.0</td>\n",
       "      <td>13958.559570</td>\n",
       "    </tr>\n",
       "    <tr>\n",
       "      <th>314</th>\n",
       "      <td>3</td>\n",
       "      <td>1</td>\n",
       "      <td>4</td>\n",
       "      <td>0</td>\n",
       "      <td>0</td>\n",
       "      <td>4</td>\n",
       "      <td>8</td>\n",
       "      <td>135</td>\n",
       "      <td>6</td>\n",
       "      <td>3</td>\n",
       "      <td>2019</td>\n",
       "      <td>85.410772</td>\n",
       "      <td>85.324699</td>\n",
       "      <td>7295.0</td>\n",
       "      <td>7280.299805</td>\n",
       "    </tr>\n",
       "    <tr>\n",
       "      <th>2225</th>\n",
       "      <td>4</td>\n",
       "      <td>0</td>\n",
       "      <td>2</td>\n",
       "      <td>2</td>\n",
       "      <td>4</td>\n",
       "      <td>4</td>\n",
       "      <td>5</td>\n",
       "      <td>185</td>\n",
       "      <td>9</td>\n",
       "      <td>5</td>\n",
       "      <td>2019</td>\n",
       "      <td>60.844063</td>\n",
       "      <td>74.904366</td>\n",
       "      <td>3702.0</td>\n",
       "      <td>5610.660156</td>\n",
       "    </tr>\n",
       "  </tbody>\n",
       "</table>\n",
       "</div>"
      ],
      "text/plain": [
       "      Airline  Source  Destination  Dep_Time  Arrival_Time  Total_Stops  \\\n",
       "9863        8       2            1         1             0            0   \n",
       "1117        0       0            5         1             1            4   \n",
       "8165        4       3            0         2             3            0   \n",
       "314         3       1            4         0             0            4   \n",
       "2225        4       0            2         2             4            4   \n",
       "\n",
       "      Additional_Info  Duration_min  Date  Month  year       Price  \\\n",
       "9863                7           270     3      4  2019   64.015623   \n",
       "1117                8           170    24      3  2019   58.163562   \n",
       "8165                8           800     6      5  2019  119.949990   \n",
       "314                 8           135     6      3  2019   85.410772   \n",
       "2225                5           185     9      5  2019   60.844063   \n",
       "\n",
       "      Prediction  Original_price  Original_price_pre  \n",
       "9863   66.016861          4098.0         4358.229980  \n",
       "1117   62.216526          3383.0         3870.899902  \n",
       "8165  118.146355         14388.0        13958.559570  \n",
       "314    85.324699          7295.0         7280.299805  \n",
       "2225   74.904366          3702.0         5610.660156  "
      ]
     },
     "execution_count": 54,
     "metadata": {},
     "output_type": "execute_result"
    }
   ],
   "source": [
    "Submission = pd.concat([train,test],axis=0)\n",
    "Submission.head()"
   ]
  },
  {
   "cell_type": "markdown",
   "id": "55073e45",
   "metadata": {},
   "source": [
    "##### Prediction On Live Data :"
   ]
  },
  {
   "cell_type": "code",
   "execution_count": 55,
   "id": "0f376c87",
   "metadata": {
    "scrolled": true
   },
   "outputs": [
    {
     "data": {
      "text/html": [
       "<div>\n",
       "<style scoped>\n",
       "    .dataframe tbody tr th:only-of-type {\n",
       "        vertical-align: middle;\n",
       "    }\n",
       "\n",
       "    .dataframe tbody tr th {\n",
       "        vertical-align: top;\n",
       "    }\n",
       "\n",
       "    .dataframe thead th {\n",
       "        text-align: right;\n",
       "    }\n",
       "</style>\n",
       "<table border=\"1\" class=\"dataframe\">\n",
       "  <thead>\n",
       "    <tr style=\"text-align: right;\">\n",
       "      <th></th>\n",
       "      <th>Airline</th>\n",
       "      <th>Date_of_Journey</th>\n",
       "      <th>Source</th>\n",
       "      <th>Destination</th>\n",
       "      <th>Route</th>\n",
       "      <th>Dep_Time</th>\n",
       "      <th>Arrival_Time</th>\n",
       "      <th>Duration</th>\n",
       "      <th>Total_Stops</th>\n",
       "      <th>Additional_Info</th>\n",
       "    </tr>\n",
       "  </thead>\n",
       "  <tbody>\n",
       "    <tr>\n",
       "      <th>0</th>\n",
       "      <td>Jet Airways</td>\n",
       "      <td>6/06/2019</td>\n",
       "      <td>Delhi</td>\n",
       "      <td>Cochin</td>\n",
       "      <td>DEL → BOM → COK</td>\n",
       "      <td>17:30</td>\n",
       "      <td>04:25 07 Jun</td>\n",
       "      <td>10h 55m</td>\n",
       "      <td>1 stop</td>\n",
       "      <td>No info</td>\n",
       "    </tr>\n",
       "    <tr>\n",
       "      <th>1</th>\n",
       "      <td>IndiGo</td>\n",
       "      <td>12/05/2019</td>\n",
       "      <td>Kolkata</td>\n",
       "      <td>Banglore</td>\n",
       "      <td>CCU → MAA → BLR</td>\n",
       "      <td>06:20</td>\n",
       "      <td>10:20</td>\n",
       "      <td>4h</td>\n",
       "      <td>1 stop</td>\n",
       "      <td>No info</td>\n",
       "    </tr>\n",
       "    <tr>\n",
       "      <th>2</th>\n",
       "      <td>Jet Airways</td>\n",
       "      <td>21/05/2019</td>\n",
       "      <td>Delhi</td>\n",
       "      <td>Cochin</td>\n",
       "      <td>DEL → BOM → COK</td>\n",
       "      <td>19:15</td>\n",
       "      <td>19:00 22 May</td>\n",
       "      <td>23h 45m</td>\n",
       "      <td>1 stop</td>\n",
       "      <td>In-flight meal not included</td>\n",
       "    </tr>\n",
       "    <tr>\n",
       "      <th>3</th>\n",
       "      <td>Multiple carriers</td>\n",
       "      <td>21/05/2019</td>\n",
       "      <td>Delhi</td>\n",
       "      <td>Cochin</td>\n",
       "      <td>DEL → BOM → COK</td>\n",
       "      <td>08:00</td>\n",
       "      <td>21:00</td>\n",
       "      <td>13h</td>\n",
       "      <td>1 stop</td>\n",
       "      <td>No info</td>\n",
       "    </tr>\n",
       "    <tr>\n",
       "      <th>4</th>\n",
       "      <td>Air Asia</td>\n",
       "      <td>24/06/2019</td>\n",
       "      <td>Banglore</td>\n",
       "      <td>Delhi</td>\n",
       "      <td>BLR → DEL</td>\n",
       "      <td>23:55</td>\n",
       "      <td>02:45 25 Jun</td>\n",
       "      <td>2h 50m</td>\n",
       "      <td>non-stop</td>\n",
       "      <td>No info</td>\n",
       "    </tr>\n",
       "  </tbody>\n",
       "</table>\n",
       "</div>"
      ],
      "text/plain": [
       "             Airline Date_of_Journey    Source Destination            Route  \\\n",
       "0        Jet Airways       6/06/2019     Delhi      Cochin  DEL → BOM → COK   \n",
       "1             IndiGo      12/05/2019   Kolkata    Banglore  CCU → MAA → BLR   \n",
       "2        Jet Airways      21/05/2019     Delhi      Cochin  DEL → BOM → COK   \n",
       "3  Multiple carriers      21/05/2019     Delhi      Cochin  DEL → BOM → COK   \n",
       "4           Air Asia      24/06/2019  Banglore       Delhi        BLR → DEL   \n",
       "\n",
       "  Dep_Time  Arrival_Time Duration Total_Stops              Additional_Info  \n",
       "0    17:30  04:25 07 Jun  10h 55m      1 stop                      No info  \n",
       "1    06:20         10:20       4h      1 stop                      No info  \n",
       "2    19:15  19:00 22 May  23h 45m      1 stop  In-flight meal not included  \n",
       "3    08:00         21:00      13h      1 stop                      No info  \n",
       "4    23:55  02:45 25 Jun   2h 50m    non-stop                      No info  "
      ]
     },
     "execution_count": 55,
     "metadata": {},
     "output_type": "execute_result"
    }
   ],
   "source": [
    "LD.head()"
   ]
  },
  {
   "cell_type": "code",
   "execution_count": 56,
   "id": "8eaf50a0",
   "metadata": {
    "scrolled": true
   },
   "outputs": [
    {
     "name": "stdout",
     "output_type": "stream",
     "text": [
      "<class 'pandas.core.frame.DataFrame'>\n",
      "RangeIndex: 2671 entries, 0 to 2670\n",
      "Data columns (total 10 columns):\n",
      " #   Column           Non-Null Count  Dtype \n",
      "---  ------           --------------  ----- \n",
      " 0   Airline          2671 non-null   object\n",
      " 1   Date_of_Journey  2671 non-null   object\n",
      " 2   Source           2671 non-null   object\n",
      " 3   Destination      2671 non-null   object\n",
      " 4   Route            2671 non-null   object\n",
      " 5   Dep_Time         2671 non-null   object\n",
      " 6   Arrival_Time     2671 non-null   object\n",
      " 7   Duration         2671 non-null   object\n",
      " 8   Total_Stops      2671 non-null   object\n",
      " 9   Additional_Info  2671 non-null   object\n",
      "dtypes: object(10)\n",
      "memory usage: 208.8+ KB\n"
     ]
    }
   ],
   "source": [
    "LD.info()"
   ]
  },
  {
   "cell_type": "code",
   "execution_count": 57,
   "id": "223a4f4b",
   "metadata": {},
   "outputs": [
    {
     "data": {
      "text/plain": [
       "Airline            0\n",
       "Date_of_Journey    0\n",
       "Source             0\n",
       "Destination        0\n",
       "Route              0\n",
       "Dep_Time           0\n",
       "Arrival_Time       0\n",
       "Duration           0\n",
       "Total_Stops        0\n",
       "Additional_Info    0\n",
       "dtype: int64"
      ]
     },
     "execution_count": 57,
     "metadata": {},
     "output_type": "execute_result"
    }
   ],
   "source": [
    "LD.isna().sum()"
   ]
  },
  {
   "cell_type": "code",
   "execution_count": 58,
   "id": "28ba46d2",
   "metadata": {},
   "outputs": [],
   "source": [
    "del LD['Route']\n",
    "### This Does not effect on model but it included in stops column."
   ]
  },
  {
   "cell_type": "code",
   "execution_count": 59,
   "id": "321b4bba",
   "metadata": {},
   "outputs": [],
   "source": [
    "LD['Dep_Time'] = pd.to_datetime(LD['Dep_Time'])\n",
    "LD['Dep_Time'] = LD['Dep_Time'].dt.hour\n",
    "LD['Arrival_Time'] = pd.to_datetime(LD['Arrival_Time'])\n",
    "LD['Arrival_Time'] = LD['Arrival_Time'].dt.hour"
   ]
  },
  {
   "cell_type": "code",
   "execution_count": 60,
   "id": "712fe694",
   "metadata": {},
   "outputs": [],
   "source": [
    "def Time(df):\n",
    "    if (df > 4 ) and (df <= 8):\n",
    "        return \"Early Morning\"\n",
    "    elif (df > 8 ) and (df <= 12):\n",
    "        return \"Morning\"\n",
    "    elif (df > 12 ) and (df <= 16):\n",
    "        return \"AfterNoon\"\n",
    "    elif (df > 16 ) and (df <= 20):\n",
    "        return \"Evening\"\n",
    "    elif (df > 20 ) and (df <= 24):\n",
    "        return \"Night\"\n",
    "    else:\n",
    "        \"Mid_Night\"\n",
    "        \n",
    "LD['Dep_Time'] = LD['Dep_Time'].apply(lambda x :Time(x))\n",
    "LD['Arrival_Time'] = LD['Arrival_Time'].apply(lambda x :Time(x))\n",
    "\n",
    "### This values are converted into Day interval for better model."
   ]
  },
  {
   "cell_type": "code",
   "execution_count": 61,
   "id": "cb040e6d",
   "metadata": {},
   "outputs": [],
   "source": [
    "LD[\"Duration_min\"] = LD['Duration'].str.replace('h',\"*60\").str.replace(' ','+').str.replace('m','*1').apply(eval)\n",
    "del LD['Duration'] "
   ]
  },
  {
   "cell_type": "code",
   "execution_count": 62,
   "id": "d4314797",
   "metadata": {},
   "outputs": [],
   "source": [
    "LD['Date_of_Journey'] = pd.to_datetime(LD['Date_of_Journey'], format='%d/%m/%Y')"
   ]
  },
  {
   "cell_type": "code",
   "execution_count": 63,
   "id": "d2980fb0",
   "metadata": {},
   "outputs": [],
   "source": [
    "LD['Date'] = LD['Date_of_Journey'].dt.day\n",
    "LD['Month'] = LD['Date_of_Journey'].dt.month\n",
    "LD['year'] = LD['Date_of_Journey'].dt.year"
   ]
  },
  {
   "cell_type": "code",
   "execution_count": 64,
   "id": "1549ff4c",
   "metadata": {},
   "outputs": [],
   "source": [
    "del LD['Date_of_Journey']"
   ]
  },
  {
   "cell_type": "code",
   "execution_count": 65,
   "id": "5cf617c0",
   "metadata": {
    "scrolled": true
   },
   "outputs": [
    {
     "data": {
      "text/html": [
       "<div>\n",
       "<style scoped>\n",
       "    .dataframe tbody tr th:only-of-type {\n",
       "        vertical-align: middle;\n",
       "    }\n",
       "\n",
       "    .dataframe tbody tr th {\n",
       "        vertical-align: top;\n",
       "    }\n",
       "\n",
       "    .dataframe thead th {\n",
       "        text-align: right;\n",
       "    }\n",
       "</style>\n",
       "<table border=\"1\" class=\"dataframe\">\n",
       "  <thead>\n",
       "    <tr style=\"text-align: right;\">\n",
       "      <th></th>\n",
       "      <th>Airline</th>\n",
       "      <th>Source</th>\n",
       "      <th>Destination</th>\n",
       "      <th>Dep_Time</th>\n",
       "      <th>Arrival_Time</th>\n",
       "      <th>Total_Stops</th>\n",
       "      <th>Additional_Info</th>\n",
       "      <th>Duration_min</th>\n",
       "      <th>Date</th>\n",
       "      <th>Month</th>\n",
       "      <th>year</th>\n",
       "    </tr>\n",
       "  </thead>\n",
       "  <tbody>\n",
       "    <tr>\n",
       "      <th>0</th>\n",
       "      <td>Jet Airways</td>\n",
       "      <td>Delhi</td>\n",
       "      <td>Cochin</td>\n",
       "      <td>Evening</td>\n",
       "      <td>None</td>\n",
       "      <td>1 stop</td>\n",
       "      <td>No info</td>\n",
       "      <td>655</td>\n",
       "      <td>6</td>\n",
       "      <td>6</td>\n",
       "      <td>2019</td>\n",
       "    </tr>\n",
       "    <tr>\n",
       "      <th>1</th>\n",
       "      <td>IndiGo</td>\n",
       "      <td>Kolkata</td>\n",
       "      <td>Banglore</td>\n",
       "      <td>Early Morning</td>\n",
       "      <td>Morning</td>\n",
       "      <td>1 stop</td>\n",
       "      <td>No info</td>\n",
       "      <td>240</td>\n",
       "      <td>12</td>\n",
       "      <td>5</td>\n",
       "      <td>2019</td>\n",
       "    </tr>\n",
       "    <tr>\n",
       "      <th>2</th>\n",
       "      <td>Jet Airways</td>\n",
       "      <td>Delhi</td>\n",
       "      <td>Cochin</td>\n",
       "      <td>Evening</td>\n",
       "      <td>Evening</td>\n",
       "      <td>1 stop</td>\n",
       "      <td>In-flight meal not included</td>\n",
       "      <td>1425</td>\n",
       "      <td>21</td>\n",
       "      <td>5</td>\n",
       "      <td>2019</td>\n",
       "    </tr>\n",
       "    <tr>\n",
       "      <th>3</th>\n",
       "      <td>Multiple carriers</td>\n",
       "      <td>Delhi</td>\n",
       "      <td>Cochin</td>\n",
       "      <td>Early Morning</td>\n",
       "      <td>Night</td>\n",
       "      <td>1 stop</td>\n",
       "      <td>No info</td>\n",
       "      <td>780</td>\n",
       "      <td>21</td>\n",
       "      <td>5</td>\n",
       "      <td>2019</td>\n",
       "    </tr>\n",
       "    <tr>\n",
       "      <th>4</th>\n",
       "      <td>Air Asia</td>\n",
       "      <td>Banglore</td>\n",
       "      <td>Delhi</td>\n",
       "      <td>Night</td>\n",
       "      <td>None</td>\n",
       "      <td>non-stop</td>\n",
       "      <td>No info</td>\n",
       "      <td>170</td>\n",
       "      <td>24</td>\n",
       "      <td>6</td>\n",
       "      <td>2019</td>\n",
       "    </tr>\n",
       "  </tbody>\n",
       "</table>\n",
       "</div>"
      ],
      "text/plain": [
       "             Airline    Source Destination       Dep_Time Arrival_Time  \\\n",
       "0        Jet Airways     Delhi      Cochin        Evening         None   \n",
       "1             IndiGo   Kolkata    Banglore  Early Morning      Morning   \n",
       "2        Jet Airways     Delhi      Cochin        Evening      Evening   \n",
       "3  Multiple carriers     Delhi      Cochin  Early Morning        Night   \n",
       "4           Air Asia  Banglore       Delhi          Night         None   \n",
       "\n",
       "  Total_Stops              Additional_Info  Duration_min  Date  Month  year  \n",
       "0      1 stop                      No info           655     6      6  2019  \n",
       "1      1 stop                      No info           240    12      5  2019  \n",
       "2      1 stop  In-flight meal not included          1425    21      5  2019  \n",
       "3      1 stop                      No info           780    21      5  2019  \n",
       "4    non-stop                      No info           170    24      6  2019  "
      ]
     },
     "execution_count": 65,
     "metadata": {},
     "output_type": "execute_result"
    }
   ],
   "source": [
    "LD.head()"
   ]
  },
  {
   "cell_type": "code",
   "execution_count": 66,
   "id": "3a4f10c9",
   "metadata": {},
   "outputs": [
    {
     "data": {
      "text/html": [
       "<div>\n",
       "<style scoped>\n",
       "    .dataframe tbody tr th:only-of-type {\n",
       "        vertical-align: middle;\n",
       "    }\n",
       "\n",
       "    .dataframe tbody tr th {\n",
       "        vertical-align: top;\n",
       "    }\n",
       "\n",
       "    .dataframe thead th {\n",
       "        text-align: right;\n",
       "    }\n",
       "</style>\n",
       "<table border=\"1\" class=\"dataframe\">\n",
       "  <thead>\n",
       "    <tr style=\"text-align: right;\">\n",
       "      <th></th>\n",
       "      <th>Airline</th>\n",
       "      <th>Source</th>\n",
       "      <th>Destination</th>\n",
       "      <th>Dep_Time</th>\n",
       "      <th>Arrival_Time</th>\n",
       "      <th>Total_Stops</th>\n",
       "      <th>Additional_Info</th>\n",
       "    </tr>\n",
       "  </thead>\n",
       "  <tbody>\n",
       "    <tr>\n",
       "      <th>0</th>\n",
       "      <td>Jet Airways</td>\n",
       "      <td>Delhi</td>\n",
       "      <td>Cochin</td>\n",
       "      <td>Evening</td>\n",
       "      <td>None</td>\n",
       "      <td>1 stop</td>\n",
       "      <td>No info</td>\n",
       "    </tr>\n",
       "    <tr>\n",
       "      <th>1</th>\n",
       "      <td>IndiGo</td>\n",
       "      <td>Kolkata</td>\n",
       "      <td>Banglore</td>\n",
       "      <td>Early Morning</td>\n",
       "      <td>Morning</td>\n",
       "      <td>1 stop</td>\n",
       "      <td>No info</td>\n",
       "    </tr>\n",
       "    <tr>\n",
       "      <th>2</th>\n",
       "      <td>Jet Airways</td>\n",
       "      <td>Delhi</td>\n",
       "      <td>Cochin</td>\n",
       "      <td>Evening</td>\n",
       "      <td>Evening</td>\n",
       "      <td>1 stop</td>\n",
       "      <td>In-flight meal not included</td>\n",
       "    </tr>\n",
       "    <tr>\n",
       "      <th>3</th>\n",
       "      <td>Multiple carriers</td>\n",
       "      <td>Delhi</td>\n",
       "      <td>Cochin</td>\n",
       "      <td>Early Morning</td>\n",
       "      <td>Night</td>\n",
       "      <td>1 stop</td>\n",
       "      <td>No info</td>\n",
       "    </tr>\n",
       "    <tr>\n",
       "      <th>4</th>\n",
       "      <td>Air Asia</td>\n",
       "      <td>Banglore</td>\n",
       "      <td>Delhi</td>\n",
       "      <td>Night</td>\n",
       "      <td>None</td>\n",
       "      <td>non-stop</td>\n",
       "      <td>No info</td>\n",
       "    </tr>\n",
       "  </tbody>\n",
       "</table>\n",
       "</div>"
      ],
      "text/plain": [
       "             Airline    Source Destination       Dep_Time Arrival_Time  \\\n",
       "0        Jet Airways     Delhi      Cochin        Evening         None   \n",
       "1             IndiGo   Kolkata    Banglore  Early Morning      Morning   \n",
       "2        Jet Airways     Delhi      Cochin        Evening      Evening   \n",
       "3  Multiple carriers     Delhi      Cochin  Early Morning        Night   \n",
       "4           Air Asia  Banglore       Delhi          Night         None   \n",
       "\n",
       "  Total_Stops              Additional_Info  \n",
       "0      1 stop                      No info  \n",
       "1      1 stop                      No info  \n",
       "2      1 stop  In-flight meal not included  \n",
       "3      1 stop                      No info  \n",
       "4    non-stop                      No info  "
      ]
     },
     "execution_count": 66,
     "metadata": {},
     "output_type": "execute_result"
    }
   ],
   "source": [
    "num_LD = LD.select_dtypes(include=np.number)\n",
    "cat_LD = LD.select_dtypes(include=object)\n",
    "cat_LD.head()"
   ]
  },
  {
   "cell_type": "code",
   "execution_count": 67,
   "id": "c7167167",
   "metadata": {},
   "outputs": [
    {
     "data": {
      "text/html": [
       "<div>\n",
       "<style scoped>\n",
       "    .dataframe tbody tr th:only-of-type {\n",
       "        vertical-align: middle;\n",
       "    }\n",
       "\n",
       "    .dataframe tbody tr th {\n",
       "        vertical-align: top;\n",
       "    }\n",
       "\n",
       "    .dataframe thead th {\n",
       "        text-align: right;\n",
       "    }\n",
       "</style>\n",
       "<table border=\"1\" class=\"dataframe\">\n",
       "  <thead>\n",
       "    <tr style=\"text-align: right;\">\n",
       "      <th></th>\n",
       "      <th>Airline</th>\n",
       "      <th>Source</th>\n",
       "      <th>Destination</th>\n",
       "      <th>Dep_Time</th>\n",
       "      <th>Arrival_Time</th>\n",
       "      <th>Total_Stops</th>\n",
       "      <th>Additional_Info</th>\n",
       "    </tr>\n",
       "  </thead>\n",
       "  <tbody>\n",
       "    <tr>\n",
       "      <th>0</th>\n",
       "      <td>4</td>\n",
       "      <td>2</td>\n",
       "      <td>1</td>\n",
       "      <td>2</td>\n",
       "      <td>5</td>\n",
       "      <td>0</td>\n",
       "      <td>5</td>\n",
       "    </tr>\n",
       "    <tr>\n",
       "      <th>1</th>\n",
       "      <td>3</td>\n",
       "      <td>3</td>\n",
       "      <td>0</td>\n",
       "      <td>1</td>\n",
       "      <td>3</td>\n",
       "      <td>0</td>\n",
       "      <td>5</td>\n",
       "    </tr>\n",
       "    <tr>\n",
       "      <th>2</th>\n",
       "      <td>4</td>\n",
       "      <td>2</td>\n",
       "      <td>1</td>\n",
       "      <td>2</td>\n",
       "      <td>2</td>\n",
       "      <td>0</td>\n",
       "      <td>3</td>\n",
       "    </tr>\n",
       "    <tr>\n",
       "      <th>3</th>\n",
       "      <td>6</td>\n",
       "      <td>2</td>\n",
       "      <td>1</td>\n",
       "      <td>1</td>\n",
       "      <td>4</td>\n",
       "      <td>0</td>\n",
       "      <td>5</td>\n",
       "    </tr>\n",
       "    <tr>\n",
       "      <th>4</th>\n",
       "      <td>0</td>\n",
       "      <td>0</td>\n",
       "      <td>2</td>\n",
       "      <td>4</td>\n",
       "      <td>5</td>\n",
       "      <td>4</td>\n",
       "      <td>5</td>\n",
       "    </tr>\n",
       "  </tbody>\n",
       "</table>\n",
       "</div>"
      ],
      "text/plain": [
       "   Airline  Source  Destination  Dep_Time  Arrival_Time  Total_Stops  \\\n",
       "0        4       2            1         2             5            0   \n",
       "1        3       3            0         1             3            0   \n",
       "2        4       2            1         2             2            0   \n",
       "3        6       2            1         1             4            0   \n",
       "4        0       0            2         4             5            4   \n",
       "\n",
       "   Additional_Info  \n",
       "0                5  \n",
       "1                5  \n",
       "2                3  \n",
       "3                5  \n",
       "4                5  "
      ]
     },
     "execution_count": 67,
     "metadata": {},
     "output_type": "execute_result"
    }
   ],
   "source": [
    "from sklearn.preprocessing import LabelEncoder\n",
    "\n",
    "cat_LD = cat_LD.apply(LabelEncoder().fit_transform)\n",
    "cat_LD.head()"
   ]
  },
  {
   "cell_type": "code",
   "execution_count": 68,
   "id": "984dea59",
   "metadata": {},
   "outputs": [
    {
     "data": {
      "text/html": [
       "<div>\n",
       "<style scoped>\n",
       "    .dataframe tbody tr th:only-of-type {\n",
       "        vertical-align: middle;\n",
       "    }\n",
       "\n",
       "    .dataframe tbody tr th {\n",
       "        vertical-align: top;\n",
       "    }\n",
       "\n",
       "    .dataframe thead th {\n",
       "        text-align: right;\n",
       "    }\n",
       "</style>\n",
       "<table border=\"1\" class=\"dataframe\">\n",
       "  <thead>\n",
       "    <tr style=\"text-align: right;\">\n",
       "      <th></th>\n",
       "      <th>Airline</th>\n",
       "      <th>Source</th>\n",
       "      <th>Destination</th>\n",
       "      <th>Dep_Time</th>\n",
       "      <th>Arrival_Time</th>\n",
       "      <th>Total_Stops</th>\n",
       "      <th>Additional_Info</th>\n",
       "      <th>Duration_min</th>\n",
       "      <th>Date</th>\n",
       "      <th>Month</th>\n",
       "      <th>year</th>\n",
       "    </tr>\n",
       "  </thead>\n",
       "  <tbody>\n",
       "    <tr>\n",
       "      <th>0</th>\n",
       "      <td>4</td>\n",
       "      <td>2</td>\n",
       "      <td>1</td>\n",
       "      <td>2</td>\n",
       "      <td>5</td>\n",
       "      <td>0</td>\n",
       "      <td>5</td>\n",
       "      <td>655</td>\n",
       "      <td>6</td>\n",
       "      <td>6</td>\n",
       "      <td>2019</td>\n",
       "    </tr>\n",
       "    <tr>\n",
       "      <th>1</th>\n",
       "      <td>3</td>\n",
       "      <td>3</td>\n",
       "      <td>0</td>\n",
       "      <td>1</td>\n",
       "      <td>3</td>\n",
       "      <td>0</td>\n",
       "      <td>5</td>\n",
       "      <td>240</td>\n",
       "      <td>12</td>\n",
       "      <td>5</td>\n",
       "      <td>2019</td>\n",
       "    </tr>\n",
       "    <tr>\n",
       "      <th>2</th>\n",
       "      <td>4</td>\n",
       "      <td>2</td>\n",
       "      <td>1</td>\n",
       "      <td>2</td>\n",
       "      <td>2</td>\n",
       "      <td>0</td>\n",
       "      <td>3</td>\n",
       "      <td>1425</td>\n",
       "      <td>21</td>\n",
       "      <td>5</td>\n",
       "      <td>2019</td>\n",
       "    </tr>\n",
       "    <tr>\n",
       "      <th>3</th>\n",
       "      <td>6</td>\n",
       "      <td>2</td>\n",
       "      <td>1</td>\n",
       "      <td>1</td>\n",
       "      <td>4</td>\n",
       "      <td>0</td>\n",
       "      <td>5</td>\n",
       "      <td>780</td>\n",
       "      <td>21</td>\n",
       "      <td>5</td>\n",
       "      <td>2019</td>\n",
       "    </tr>\n",
       "    <tr>\n",
       "      <th>4</th>\n",
       "      <td>0</td>\n",
       "      <td>0</td>\n",
       "      <td>2</td>\n",
       "      <td>4</td>\n",
       "      <td>5</td>\n",
       "      <td>4</td>\n",
       "      <td>5</td>\n",
       "      <td>170</td>\n",
       "      <td>24</td>\n",
       "      <td>6</td>\n",
       "      <td>2019</td>\n",
       "    </tr>\n",
       "  </tbody>\n",
       "</table>\n",
       "</div>"
      ],
      "text/plain": [
       "   Airline  Source  Destination  Dep_Time  Arrival_Time  Total_Stops  \\\n",
       "0        4       2            1         2             5            0   \n",
       "1        3       3            0         1             3            0   \n",
       "2        4       2            1         2             2            0   \n",
       "3        6       2            1         1             4            0   \n",
       "4        0       0            2         4             5            4   \n",
       "\n",
       "   Additional_Info  Duration_min  Date  Month  year  \n",
       "0                5           655     6      6  2019  \n",
       "1                5           240    12      5  2019  \n",
       "2                3          1425    21      5  2019  \n",
       "3                5           780    21      5  2019  \n",
       "4                5           170    24      6  2019  "
      ]
     },
     "execution_count": 68,
     "metadata": {},
     "output_type": "execute_result"
    }
   ],
   "source": [
    "Final_LD = pd.concat([cat_LD,num_LD],axis=1)\n",
    "Final_LD.head()"
   ]
  },
  {
   "cell_type": "code",
   "execution_count": 69,
   "id": "1e4ed903",
   "metadata": {},
   "outputs": [],
   "source": [
    "Final_LD['Price_pre'] = model.predict(Final_LD)     ### Value in Squareroot"
   ]
  },
  {
   "cell_type": "code",
   "execution_count": 70,
   "id": "6c957a72",
   "metadata": {
    "scrolled": true
   },
   "outputs": [],
   "source": [
    "Final_LD[\"Original_Price\"] = round(Final_LD['Price_pre']**2,2)"
   ]
  },
  {
   "cell_type": "markdown",
   "id": "2a7fb312",
   "metadata": {},
   "source": [
    "#### Submission :"
   ]
  },
  {
   "cell_type": "code",
   "execution_count": 71,
   "id": "bdce02ed",
   "metadata": {},
   "outputs": [
    {
     "data": {
      "text/html": [
       "<div>\n",
       "<style scoped>\n",
       "    .dataframe tbody tr th:only-of-type {\n",
       "        vertical-align: middle;\n",
       "    }\n",
       "\n",
       "    .dataframe tbody tr th {\n",
       "        vertical-align: top;\n",
       "    }\n",
       "\n",
       "    .dataframe thead th {\n",
       "        text-align: right;\n",
       "    }\n",
       "</style>\n",
       "<table border=\"1\" class=\"dataframe\">\n",
       "  <thead>\n",
       "    <tr style=\"text-align: right;\">\n",
       "      <th></th>\n",
       "      <th>Airline</th>\n",
       "      <th>Source</th>\n",
       "      <th>Destination</th>\n",
       "      <th>Dep_Time</th>\n",
       "      <th>Arrival_Time</th>\n",
       "      <th>Total_Stops</th>\n",
       "      <th>Additional_Info</th>\n",
       "      <th>Duration_min</th>\n",
       "      <th>Date</th>\n",
       "      <th>Month</th>\n",
       "      <th>year</th>\n",
       "      <th>Price_pre</th>\n",
       "      <th>Original_Price</th>\n",
       "    </tr>\n",
       "  </thead>\n",
       "  <tbody>\n",
       "    <tr>\n",
       "      <th>0</th>\n",
       "      <td>4</td>\n",
       "      <td>2</td>\n",
       "      <td>1</td>\n",
       "      <td>2</td>\n",
       "      <td>5</td>\n",
       "      <td>0</td>\n",
       "      <td>5</td>\n",
       "      <td>655</td>\n",
       "      <td>6</td>\n",
       "      <td>6</td>\n",
       "      <td>2019</td>\n",
       "      <td>105.967262</td>\n",
       "      <td>11229.059570</td>\n",
       "    </tr>\n",
       "    <tr>\n",
       "      <th>1</th>\n",
       "      <td>3</td>\n",
       "      <td>3</td>\n",
       "      <td>0</td>\n",
       "      <td>1</td>\n",
       "      <td>3</td>\n",
       "      <td>0</td>\n",
       "      <td>5</td>\n",
       "      <td>240</td>\n",
       "      <td>12</td>\n",
       "      <td>5</td>\n",
       "      <td>2019</td>\n",
       "      <td>43.799721</td>\n",
       "      <td>1918.420044</td>\n",
       "    </tr>\n",
       "    <tr>\n",
       "      <th>2</th>\n",
       "      <td>4</td>\n",
       "      <td>2</td>\n",
       "      <td>1</td>\n",
       "      <td>2</td>\n",
       "      <td>2</td>\n",
       "      <td>0</td>\n",
       "      <td>3</td>\n",
       "      <td>1425</td>\n",
       "      <td>21</td>\n",
       "      <td>5</td>\n",
       "      <td>2019</td>\n",
       "      <td>145.901779</td>\n",
       "      <td>21287.330078</td>\n",
       "    </tr>\n",
       "    <tr>\n",
       "      <th>3</th>\n",
       "      <td>6</td>\n",
       "      <td>2</td>\n",
       "      <td>1</td>\n",
       "      <td>1</td>\n",
       "      <td>4</td>\n",
       "      <td>0</td>\n",
       "      <td>5</td>\n",
       "      <td>780</td>\n",
       "      <td>21</td>\n",
       "      <td>5</td>\n",
       "      <td>2019</td>\n",
       "      <td>92.494461</td>\n",
       "      <td>8555.230469</td>\n",
       "    </tr>\n",
       "    <tr>\n",
       "      <th>4</th>\n",
       "      <td>0</td>\n",
       "      <td>0</td>\n",
       "      <td>2</td>\n",
       "      <td>4</td>\n",
       "      <td>5</td>\n",
       "      <td>4</td>\n",
       "      <td>5</td>\n",
       "      <td>170</td>\n",
       "      <td>24</td>\n",
       "      <td>6</td>\n",
       "      <td>2019</td>\n",
       "      <td>40.503242</td>\n",
       "      <td>1640.510010</td>\n",
       "    </tr>\n",
       "  </tbody>\n",
       "</table>\n",
       "</div>"
      ],
      "text/plain": [
       "   Airline  Source  Destination  Dep_Time  Arrival_Time  Total_Stops  \\\n",
       "0        4       2            1         2             5            0   \n",
       "1        3       3            0         1             3            0   \n",
       "2        4       2            1         2             2            0   \n",
       "3        6       2            1         1             4            0   \n",
       "4        0       0            2         4             5            4   \n",
       "\n",
       "   Additional_Info  Duration_min  Date  Month  year   Price_pre  \\\n",
       "0                5           655     6      6  2019  105.967262   \n",
       "1                5           240    12      5  2019   43.799721   \n",
       "2                3          1425    21      5  2019  145.901779   \n",
       "3                5           780    21      5  2019   92.494461   \n",
       "4                5           170    24      6  2019   40.503242   \n",
       "\n",
       "   Original_Price  \n",
       "0    11229.059570  \n",
       "1     1918.420044  \n",
       "2    21287.330078  \n",
       "3     8555.230469  \n",
       "4     1640.510010  "
      ]
     },
     "execution_count": 71,
     "metadata": {},
     "output_type": "execute_result"
    }
   ],
   "source": [
    "Submission = Final_LD.copy()\n",
    "Submission.head()"
   ]
  },
  {
   "cell_type": "code",
   "execution_count": 72,
   "id": "e4a82af4",
   "metadata": {},
   "outputs": [],
   "source": [
    "import pickle\n",
    "pickle.dump(model, open(r'C:\\Users\\DELL\\Downloads\\Advanced ML -- Exam\\build.pkl','wb'))"
   ]
  }
 ],
 "metadata": {
  "kernelspec": {
   "display_name": "Python 3 (ipykernel)",
   "language": "python",
   "name": "python3"
  },
  "language_info": {
   "codemirror_mode": {
    "name": "ipython",
    "version": 3
   },
   "file_extension": ".py",
   "mimetype": "text/x-python",
   "name": "python",
   "nbconvert_exporter": "python",
   "pygments_lexer": "ipython3",
   "version": "3.11.5"
  }
 },
 "nbformat": 4,
 "nbformat_minor": 5
}
